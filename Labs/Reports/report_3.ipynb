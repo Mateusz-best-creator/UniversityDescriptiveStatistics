{
 "cells": [
  {
   "cell_type": "markdown",
   "metadata": {},
   "source": [
    "Your task is to analyze survey data available at the following link: surveydata3.csv. The analysis includes estimating the mean with confidence intervals, standard error, minimum sample size for a specified precision, and estimating proportions.\n",
    "\n",
    "- The data is loaded from the CSV file available at the following link: [surveydata3.csv](https://raw.githubusercontent.com/juanspinzon/survey-data/refs/heads/main/surveydata3.csv).\n",
    "- The dataset contains 753 rows and 55 columns, including various demographic and survey response variables.\n",
    "- A detailed description of the dataset can be found [here](https://raw.githubusercontent.com/juanspinzon/survey-data/refs/heads/main/surveydata3_description.csv).\n",
    "\n",
    "**Instructions**\n",
    "\n",
    "**Load the Data:**\n",
    "\n",
    "- Load the data from the CSV file.\n",
    "- Calculate the mean number of hours of sleep per night.\n",
    "- Calculate the proportion of people who want to buy Udacity swag and prefer hoodies.\n",
    "\n",
    "**Mean & Variance Estimation:**\n",
    "\n",
    "- Calculate the mean and variance for the number of hours that Udemy students sleep per night.\n",
    "- Calculate the confidence interval for the mean and variance.\n",
    "- Calculate the standard error.\n",
    "- Calculate the minimum sample size required to achieve a specified precision (e.g., 3%). \n",
    "- Visualize results with the boxplot (mean, std errors, confidence interval).\n",
    "\n",
    "**Proportion Estimation:**\n",
    "\n",
    "- Calculate the proportion for of people who want to buy Udacity swag and prefer hoodies :)\n",
    "- Calculate the confidence interval for that proportion.\n",
    "- Calculate the standard error.\n",
    "- Calculate the minimum sample size required to achieve a specified precision (e.g., 3%).\n",
    "- Visualize results with the boxplot (proportion, std errors, confidence interval).\n",
    "\n"
   ]
  },
  {
   "cell_type": "code",
   "execution_count": 1,
   "metadata": {},
   "outputs": [
    {
     "data": {
      "text/html": [
       "<div>\n",
       "<style scoped>\n",
       "    .dataframe tbody tr th:only-of-type {\n",
       "        vertical-align: middle;\n",
       "    }\n",
       "\n",
       "    .dataframe tbody tr th {\n",
       "        vertical-align: top;\n",
       "    }\n",
       "\n",
       "    .dataframe thead th {\n",
       "        text-align: right;\n",
       "    }\n",
       "</style>\n",
       "<table border=\"1\" class=\"dataframe\">\n",
       "  <thead>\n",
       "    <tr style=\"text-align: right;\">\n",
       "      <th></th>\n",
       "      <th>Index</th>\n",
       "      <th>reasons_study</th>\n",
       "      <th>age_years</th>\n",
       "      <th>sleep hours per night</th>\n",
       "      <th>commute_minutes</th>\n",
       "      <th>sitting hours per day</th>\n",
       "      <th>books per year</th>\n",
       "      <th>location</th>\n",
       "      <th>buy swag</th>\n",
       "      <th>item</th>\n",
       "      <th>...</th>\n",
       "      <th>study_hours_week</th>\n",
       "      <th>applied learned_hours per week</th>\n",
       "      <th>project_hours</th>\n",
       "      <th>advice</th>\n",
       "      <th>found Udacity</th>\n",
       "      <th>likely to recommend</th>\n",
       "      <th>improve experience</th>\n",
       "      <th>new to learn</th>\n",
       "      <th>anything else</th>\n",
       "      <th>share more info</th>\n",
       "    </tr>\n",
       "  </thead>\n",
       "  <tbody>\n",
       "    <tr>\n",
       "      <th>0</th>\n",
       "      <td>0</td>\n",
       "      <td>NaN</td>\n",
       "      <td>32.0</td>\n",
       "      <td>NaN</td>\n",
       "      <td>NaN</td>\n",
       "      <td>NaN</td>\n",
       "      <td>NaN</td>\n",
       "      <td>China</td>\n",
       "      <td>1</td>\n",
       "      <td>hoodie</td>\n",
       "      <td>...</td>\n",
       "      <td>3</td>\n",
       "      <td>5</td>\n",
       "      <td>NaN</td>\n",
       "      <td>Set a schedule</td>\n",
       "      <td>Friend / word of mouth</td>\n",
       "      <td>10</td>\n",
       "      <td>Have weekly assignments</td>\n",
       "      <td>NaN</td>\n",
       "      <td>I love you guys!</td>\n",
       "      <td>NaN</td>\n",
       "    </tr>\n",
       "    <tr>\n",
       "      <th>1</th>\n",
       "      <td>1</td>\n",
       "      <td>NaN</td>\n",
       "      <td>38.0</td>\n",
       "      <td>NaN</td>\n",
       "      <td>NaN</td>\n",
       "      <td>NaN</td>\n",
       "      <td>NaN</td>\n",
       "      <td>Argentina</td>\n",
       "      <td>1</td>\n",
       "      <td>t-shirt</td>\n",
       "      <td>...</td>\n",
       "      <td>3</td>\n",
       "      <td>3</td>\n",
       "      <td>NaN</td>\n",
       "      <td>Don't be afraid to push the results of the pro...</td>\n",
       "      <td>Google</td>\n",
       "      <td>10</td>\n",
       "      <td>Nothing</td>\n",
       "      <td>NaN</td>\n",
       "      <td>Great survey!</td>\n",
       "      <td>NaN</td>\n",
       "    </tr>\n",
       "    <tr>\n",
       "      <th>2</th>\n",
       "      <td>2</td>\n",
       "      <td>Start a new career in this field</td>\n",
       "      <td>30.0</td>\n",
       "      <td>7.0</td>\n",
       "      <td>45.0</td>\n",
       "      <td>8.0</td>\n",
       "      <td>2.0</td>\n",
       "      <td>Canada</td>\n",
       "      <td>0</td>\n",
       "      <td>jacket (brand is TBD... probably Patagonia)</td>\n",
       "      <td>...</td>\n",
       "      <td>20</td>\n",
       "      <td>15</td>\n",
       "      <td>15.0</td>\n",
       "      <td>work on it everyday</td>\n",
       "      <td>Google</td>\n",
       "      <td>8</td>\n",
       "      <td>more help working through the courses</td>\n",
       "      <td>SAS</td>\n",
       "      <td>NaN</td>\n",
       "      <td>NaN</td>\n",
       "    </tr>\n",
       "    <tr>\n",
       "      <th>3</th>\n",
       "      <td>3</td>\n",
       "      <td>General interest in the topic (personal growth...</td>\n",
       "      <td>37.0</td>\n",
       "      <td>7.0</td>\n",
       "      <td>30.0</td>\n",
       "      <td>5.0</td>\n",
       "      <td>10.0</td>\n",
       "      <td>India</td>\n",
       "      <td>1</td>\n",
       "      <td>t-shirt</td>\n",
       "      <td>...</td>\n",
       "      <td>5</td>\n",
       "      <td>6</td>\n",
       "      <td>7.0</td>\n",
       "      <td>Do not procrastinate. This is fun.</td>\n",
       "      <td>Google</td>\n",
       "      <td>10</td>\n",
       "      <td>Feature podcasts. More meetings with renowned ...</td>\n",
       "      <td>self-driving cars.</td>\n",
       "      <td>NaN</td>\n",
       "      <td>NaN</td>\n",
       "    </tr>\n",
       "    <tr>\n",
       "      <th>4</th>\n",
       "      <td>4</td>\n",
       "      <td>Start a new career in this field</td>\n",
       "      <td>24.0</td>\n",
       "      <td>8.0</td>\n",
       "      <td>65.0</td>\n",
       "      <td>0.0</td>\n",
       "      <td>45.0</td>\n",
       "      <td>Japan</td>\n",
       "      <td>0</td>\n",
       "      <td>backpack</td>\n",
       "      <td>...</td>\n",
       "      <td>2</td>\n",
       "      <td>1</td>\n",
       "      <td>1.0</td>\n",
       "      <td>NaN</td>\n",
       "      <td>Google</td>\n",
       "      <td>5</td>\n",
       "      <td>More in depth information and theory</td>\n",
       "      <td>Advanced Deep learning, attention, and complex...</td>\n",
       "      <td>NaN</td>\n",
       "      <td>NaN</td>\n",
       "    </tr>\n",
       "  </tbody>\n",
       "</table>\n",
       "<p>5 rows × 30 columns</p>\n",
       "</div>"
      ],
      "text/plain": [
       "   Index                                      reasons_study  age_years  \\\n",
       "0      0                                                NaN       32.0   \n",
       "1      1                                                NaN       38.0   \n",
       "2      2                   Start a new career in this field       30.0   \n",
       "3      3  General interest in the topic (personal growth...       37.0   \n",
       "4      4                   Start a new career in this field       24.0   \n",
       "\n",
       "   sleep hours per night  commute_minutes  sitting hours per day  \\\n",
       "0                    NaN              NaN                    NaN   \n",
       "1                    NaN              NaN                    NaN   \n",
       "2                    7.0             45.0                    8.0   \n",
       "3                    7.0             30.0                    5.0   \n",
       "4                    8.0             65.0                    0.0   \n",
       "\n",
       "   books per year   location  buy swag  \\\n",
       "0             NaN      China         1   \n",
       "1             NaN  Argentina         1   \n",
       "2             2.0     Canada         0   \n",
       "3            10.0      India         1   \n",
       "4            45.0      Japan         0   \n",
       "\n",
       "                                          item  ... study_hours_week  \\\n",
       "0                                       hoodie  ...                3   \n",
       "1                                      t-shirt  ...                3   \n",
       "2  jacket (brand is TBD... probably Patagonia)  ...               20   \n",
       "3                                      t-shirt  ...                5   \n",
       "4                                     backpack  ...                2   \n",
       "\n",
       "   applied learned_hours per week project_hours  \\\n",
       "0                               5           NaN   \n",
       "1                               3           NaN   \n",
       "2                              15          15.0   \n",
       "3                               6           7.0   \n",
       "4                               1           1.0   \n",
       "\n",
       "                                              advice           found Udacity  \\\n",
       "0                                     Set a schedule  Friend / word of mouth   \n",
       "1  Don't be afraid to push the results of the pro...                  Google   \n",
       "2                                work on it everyday                  Google   \n",
       "3                 Do not procrastinate. This is fun.                  Google   \n",
       "4                                                NaN                  Google   \n",
       "\n",
       "   likely to recommend                                 improve experience  \\\n",
       "0                   10                            Have weekly assignments   \n",
       "1                   10                                            Nothing   \n",
       "2                    8              more help working through the courses   \n",
       "3                   10  Feature podcasts. More meetings with renowned ...   \n",
       "4                    5               More in depth information and theory   \n",
       "\n",
       "                                        new to learn     anything else  \\\n",
       "0                                                NaN  I love you guys!   \n",
       "1                                                NaN     Great survey!   \n",
       "2                                                SAS               NaN   \n",
       "3                                 self-driving cars.               NaN   \n",
       "4  Advanced Deep learning, attention, and complex...               NaN   \n",
       "\n",
       "  share more info  \n",
       "0             NaN  \n",
       "1             NaN  \n",
       "2             NaN  \n",
       "3             NaN  \n",
       "4             NaN  \n",
       "\n",
       "[5 rows x 30 columns]"
      ]
     },
     "execution_count": 1,
     "metadata": {},
     "output_type": "execute_result"
    }
   ],
   "source": [
    "import pandas as pd\n",
    "import matplotlib.pyplot as plt\n",
    "\n",
    "url = 'https://raw.githubusercontent.com/juanspinzon/survey-data/refs/heads/main/clean_surveydata3.xlsx?raw=true'\n",
    "df = pd.read_excel(url, engine='openpyxl')\n",
    "df.head()"
   ]
  },
  {
   "cell_type": "code",
   "execution_count": 3,
   "metadata": {},
   "outputs": [
    {
     "data": {
      "text/plain": [
       "Index(['Index', 'reasons_study', 'age_years', 'sleep hours per night',\n",
       "       'commute_minutes', 'sitting hours per day', 'books per year',\n",
       "       'location', 'buy swag', 'item', 'slogan/tagline', 'employed',\n",
       "       'occupation', 'job level', 'industry', 'experience_years',\n",
       "       'place of work', 'education level', 'Uprogramm', 'help tool',\n",
       "       'study_hours_week', 'applied learned_hours per week', 'project_hours',\n",
       "       'advice', 'found Udacity', 'likely to recommend', 'improve experience',\n",
       "       'new to learn', 'anything else', 'share more info'],\n",
       "      dtype='object')"
      ]
     },
     "execution_count": 3,
     "metadata": {},
     "output_type": "execute_result"
    }
   ],
   "source": [
    "df.columns"
   ]
  },
  {
   "cell_type": "code",
   "execution_count": 12,
   "metadata": {},
   "outputs": [
    {
     "data": {
      "text/plain": [
       "0"
      ]
     },
     "execution_count": 12,
     "metadata": {},
     "output_type": "execute_result"
    }
   ],
   "source": [
    "df[\"buy swag\"].isna().sum()"
   ]
  },
  {
   "cell_type": "code",
   "execution_count": 32,
   "metadata": {},
   "outputs": [
    {
     "name": "stdout",
     "output_type": "stream",
     "text": [
      "Mean = 6.918990703851262\n",
      "Proportion = 0.06640106241699867\n"
     ]
    }
   ],
   "source": [
    "from sklearn.impute import SimpleImputer\n",
    "import numpy as np\n",
    "\n",
    "imputer = SimpleImputer(missing_values=np.nan,\n",
    "                        strategy=\"median\")\n",
    "sleep_data = df[[\"sleep hours per night\"]]\n",
    "sleep_data = imputer.fit_transform(sleep_data)\n",
    "mean_hours_sleep = sleep_data.mean()\n",
    "\n",
    "hoodie_swag_data = df[(df[\"item\"]==\"hoodie\") & (df[\"buy swag\"]==1)][[\"buy swag\", \"item\"]]\n",
    "proprotion_swag_hoodie = len(hoodie_swag_data) / len(df)\n",
    "\n",
    "print(f\"Mean = {mean_hours_sleep}\\nProportion = {proprotion_swag_hoodie}\")"
   ]
  },
  {
   "cell_type": "code",
   "execution_count": 33,
   "metadata": {},
   "outputs": [
    {
     "data": {
      "text/html": [
       "<div>\n",
       "<style scoped>\n",
       "    .dataframe tbody tr th:only-of-type {\n",
       "        vertical-align: middle;\n",
       "    }\n",
       "\n",
       "    .dataframe tbody tr th {\n",
       "        vertical-align: top;\n",
       "    }\n",
       "\n",
       "    .dataframe thead th {\n",
       "        text-align: right;\n",
       "    }\n",
       "</style>\n",
       "<table border=\"1\" class=\"dataframe\">\n",
       "  <thead>\n",
       "    <tr style=\"text-align: right;\">\n",
       "      <th></th>\n",
       "      <th>buy swag</th>\n",
       "      <th>item</th>\n",
       "    </tr>\n",
       "  </thead>\n",
       "  <tbody>\n",
       "    <tr>\n",
       "      <th>0</th>\n",
       "      <td>1</td>\n",
       "      <td>hoodie</td>\n",
       "    </tr>\n",
       "    <tr>\n",
       "      <th>15</th>\n",
       "      <td>1</td>\n",
       "      <td>hoodie</td>\n",
       "    </tr>\n",
       "    <tr>\n",
       "      <th>16</th>\n",
       "      <td>1</td>\n",
       "      <td>hoodie</td>\n",
       "    </tr>\n",
       "    <tr>\n",
       "      <th>17</th>\n",
       "      <td>1</td>\n",
       "      <td>hoodie</td>\n",
       "    </tr>\n",
       "    <tr>\n",
       "      <th>18</th>\n",
       "      <td>1</td>\n",
       "      <td>hoodie</td>\n",
       "    </tr>\n",
       "  </tbody>\n",
       "</table>\n",
       "</div>"
      ],
      "text/plain": [
       "    buy swag    item\n",
       "0          1  hoodie\n",
       "15         1  hoodie\n",
       "16         1  hoodie\n",
       "17         1  hoodie\n",
       "18         1  hoodie"
      ]
     },
     "execution_count": 33,
     "metadata": {},
     "output_type": "execute_result"
    }
   ],
   "source": [
    "hoodie_swag_data.head()"
   ]
  },
  {
   "cell_type": "code",
   "execution_count": 34,
   "metadata": {},
   "outputs": [
    {
     "name": "stdout",
     "output_type": "stream",
     "text": [
      "Mean = 6.918990703851262\n",
      "SE = 0.03583341027764097\n",
      "SE from scipy = 0.035857227767992605\n",
      "CI for the mean = (6.848645290550113, 6.98933611715241)\n"
     ]
    }
   ],
   "source": [
    "from scipy import stats\n",
    "sleep_mean = sleep_data.mean()\n",
    "sleep_var = sleep_data.var()\n",
    "sleep_std = sleep_data.std()\n",
    "\n",
    "SE = sleep_std / np.sqrt(len(sleep_data))\n",
    "print(f\"Mean = {sleep_mean}\")\n",
    "print(f\"SE = {SE}\")\n",
    "print(f\"SE from scipy = {stats.sem(sleep_data)[0]}\")\n",
    "CI = stats.t.interval(0.95,\n",
    "                      len(sleep_data)-1,\n",
    "                      sleep_mean,\n",
    "                      SE)\n",
    "print(f\"CI for the mean = {CI}\")"
   ]
  },
  {
   "cell_type": "code",
   "execution_count": 45,
   "metadata": {},
   "outputs": [
    {
     "name": "stdout",
     "output_type": "stream",
     "text": [
      "Required sample size = 4140.2259009995605\n"
     ]
    }
   ],
   "source": [
    "error = 0.03\n",
    "n = (stats.t.ppf(0.975, df=len(sleep_data)-1)**2 * sleep_var) / (error**2)\n",
    "print(f\"Required sample size = {n}\")"
   ]
  },
  {
   "cell_type": "code",
   "execution_count": 40,
   "metadata": {},
   "outputs": [
    {
     "name": "stdout",
     "output_type": "stream",
     "text": [
      "CI for proportion = (-0.002611917036336092, 0.13541404187033343)\n",
      "SE = 0.03521135081955604\n"
     ]
    }
   ],
   "source": [
    "SE_p = np.sqrt((proprotion_swag_hoodie*(1-proprotion_swag_hoodie))/len(hoodie_swag_data))\n",
    "CI_proprotion = stats.norm.interval(confidence=0.95,\n",
    "                                    loc=proprotion_swag_hoodie,\n",
    "                                    scale=SE_p)\n",
    "print(f\"CI for proportion = {CI_proprotion}\")\n",
    "print(f\"SE = {SE_p}\")"
   ]
  },
  {
   "cell_type": "code",
   "execution_count": 43,
   "metadata": {},
   "outputs": [
    {
     "name": "stdout",
     "output_type": "stream",
     "text": [
      "Minimum n = 265\n"
     ]
    }
   ],
   "source": [
    "error = 0.03  \n",
    "confidence_level = 0.95\n",
    "p = proprotion_swag_hoodie\n",
    "\n",
    "Z = stats.norm.ppf(1 - (1-confidence_level)/2)\n",
    "minimum_n = (Z**2 * p * (1 - p)) / (error**2)\n",
    "print(f\"Minimum n = {minimum_n:.0f}\")"
   ]
  },
  {
   "cell_type": "code",
   "execution_count": 59,
   "metadata": {},
   "outputs": [
    {
     "name": "stdout",
     "output_type": "stream",
     "text": [
      "Z_score = 1.959963984540054\n"
     ]
    },
    {
     "data": {
      "image/png": "[encoded data removed]",
      "text/plain": [
       "<Figure size 1000x600 with 1 Axes>"
      ]
     },
     "metadata": {},
     "output_type": "display_data"
    }
   ],
   "source": [
    "import seaborn as sns\n",
    "n = 100\n",
    "error_margin = 0.03 \n",
    "confidence_level = 0.95\n",
    "\n",
    "simulations = 1000\n",
    "Z = stats.norm.ppf(1 - (1 - confidence_level) / 2)\n",
    "print(f\"Z_score = {Z}\")\n",
    "\n",
    "proportions = []\n",
    "standard_errors = []\n",
    "lower_ci = []\n",
    "upper_ci = []\n",
    "np.random.seed(42)\n",
    "\n",
    "# Simulate data\n",
    "for _ in range(simulations):\n",
    "    sample = np.random.binomial(n, p, size=n)\n",
    "    prop = np.mean(sample) / n  # Proportion of successes\n",
    "    SE = np.sqrt((prop * (1 - prop)) / n)  # Standard error\n",
    "    ci_lower = prop - Z * SE  # Lower bound of confidence interval\n",
    "    ci_upper = prop + Z * SE  # Upper bound of confidence interval\n",
    "    \n",
    "    proportions.append(prop)\n",
    "    standard_errors.append(SE)\n",
    "    lower_ci.append(ci_lower)\n",
    "    upper_ci.append(ci_upper)\n",
    "\n",
    "df = pd.DataFrame({\n",
    "    'Proportion': proportions,\n",
    "    'SE': standard_errors,\n",
    "    'Lower CI': lower_ci,\n",
    "    'Upper CI': upper_ci\n",
    "})\n",
    "\n",
    "plt.figure(figsize=(10, 6))\n",
    "sns.boxplot(data=df[['Proportion']], color='skyblue', width=0.3)\n",
    "plt.plot([0, 0], [df['Lower CI'].min(), df['Upper CI'].max()], color='red', label='95% CI', linestyle='--')\n",
    "plt.title('Proportions, Standard Errors, and Confidence Intervals')\n",
    "plt.ylabel('Value')\n",
    "plt.xticks([0], ['Proportions'])\n",
    "plt.legend()\n",
    "plt.show()"
   ]
  },
  {
   "cell_type": "code",
   "execution_count": null,
   "metadata": {},
   "outputs": [],
   "source": []
  }
 ],
 "metadata": {
  "kernelspec": {
   "display_name": "Python 3",
   "language": "python",
   "name": "python3"
  },
  "language_info": {
   "codemirror_mode": {
    "name": "ipython",
    "version": 3
   },
   "file_extension": ".py",
   "mimetype": "text/x-python",
   "name": "python",
   "nbconvert_exporter": "python",
   "pygments_lexer": "ipython3",
   "version": "3.9.2"
  }
 },
 "nbformat": 4,
 "nbformat_minor": 2
}
