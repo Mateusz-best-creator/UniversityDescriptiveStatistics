{
 "cells": [
  {
   "cell_type": "markdown",
   "metadata": {},
   "source": [
    "## Exercise 1.\n",
    "\n",
    "As a sport analyst, you would like to calculate some probabilities for basketball player who is shooting guard.\n",
    "\n",
    "n = 10 attempts and\n",
    "p = 0.7 the probability for scoring three-points \n",
    "\n",
    "Calculate the following probabilities: P(X ≤ 3), P(X < 3), P(X > 4) and P(X = 7).\n",
    "\n",
    "```{r ex1, echo=TRUE}\n",
    "\n",
    "#P(X ≤ 3)\n",
    "\n",
    "\n",
    "#P(X < 3)\n",
    "\n",
    "\n",
    "#P(X > 4)\n",
    "\n",
    "\n",
    "#P(X = 7)\n",
    "\n",
    "\n",
    "```"
   ]
  },
  {
   "cell_type": "code",
   "execution_count": 6,
   "metadata": {},
   "outputs": [
    {
     "name": "stdout",
     "output_type": "stream",
     "text": [
      "0.010592078400000007\n",
      "0.0015903864000000015\n",
      "0.9526510126\n",
      "0.26682793200000005\n"
     ]
    }
   ],
   "source": [
    "from scipy import stats\n",
    "p1 = stats.binom.cdf(k=3,\n",
    "                     n=10,\n",
    "                     p=0.7)\n",
    "print(p1)\n",
    "p2 = stats.binom.cdf(k=2,\n",
    "                     n=10,\n",
    "                     p=0.7)\n",
    "print(p2)\n",
    "p3 = stats.binom.cdf(k=10,n=10,p=0.7) - stats.binom.cdf(k=4,n=10,p=0.7)\n",
    "print(p3)\n",
    "p4 = stats.binom.pmf(k=7,n=10,p=0.7)\n",
    "print(p4)"
   ]
  },
  {
   "cell_type": "markdown",
   "metadata": {},
   "source": [
    "## Exercise 2.\n",
    "\n",
    "On a large fully automated production plant items are pushed to a side band at random time points, from which they are automatically fed to a control unit. The production plant is set up in such a way that the number of items sent to the control unit on average is 1.6 item pr. minute. Let the random variable X denote the number of items pushed to the side band in 1 minute.\n",
    "\n",
    "a) What is the probability that there will be more than 5 items at the control unit in a given minute?\n",
    "\n",
    "b) What is the probability that not more than 8 items arrive to the control unit within a 5-minute period?\n",
    "\n",
    "\n",
    "```{r ex2, echo=FALSE}\n",
    "\n",
    "#a)\n",
    "\n",
    "#b)\n",
    "\n",
    "```"
   ]
  },
  {
   "cell_type": "code",
   "execution_count": 13,
   "metadata": {},
   "outputs": [
    {
     "name": "stdout",
     "output_type": "stream",
     "text": [
      "0.604%\n",
      "59.2547%\n"
     ]
    }
   ],
   "source": [
    "mean = 1.6\n",
    "p1 = 1 - stats.poisson.cdf(k=5, mu=mean)\n",
    "print(f\"{round(p1*100,4)}%\")\n",
    "\n",
    "k = 8\n",
    "p2 = stats.poisson.cdf(k=k, mu=mean*5)\n",
    "print(f\"{round(p2*100,4)}%\")"
   ]
  },
  {
   "cell_type": "markdown",
   "metadata": {},
   "source": [
    "## Exercise 3\n",
    "\n",
    "In the manufacture of car engine cylinders, it's known that there are 5 defective cylinders in every batch of 100 cylinders produced. From a production batch of 100 cylinders, 6 cylinders are selected randomly for analyzing.\n",
    "\n",
    "What is the probability that the sample contains 2 defective cylinders?\n",
    "\n"
   ]
  },
  {
   "cell_type": "code",
   "execution_count": 23,
   "metadata": {},
   "outputs": [
    {
     "name": "stdout",
     "output_type": "stream",
     "text": [
      "0.02670641827490134\n"
     ]
    }
   ],
   "source": [
    "defective = 5/100\n",
    "n = 6\n",
    "p = stats.hypergeom.pmf(k=2, M=100, n=5, N=6)\n",
    "print(p)"
   ]
  },
  {
   "cell_type": "markdown",
   "metadata": {},
   "source": [
    "### Extra\n",
    "\n",
    "There are 4 Queens in a standard deck of 52 cards. Suppose we randomly pick a card from a deck, then, without replacement, randomly pick another card from the deck. What is the probability that both cards are Queens?"
   ]
  },
  {
   "cell_type": "code",
   "execution_count": 24,
   "metadata": {},
   "outputs": [
    {
     "name": "stdout",
     "output_type": "stream",
     "text": [
      "0.004524886877828055\n"
     ]
    }
   ],
   "source": [
    "k=2\n",
    "n=2\n",
    "N = 52\n",
    "K = 4\n",
    "p = stats.hypergeom.pmf(k,N,K,n)\n",
    "print(p)"
   ]
  },
  {
   "cell_type": "markdown",
   "metadata": {},
   "source": [
    "### EXtra\n",
    "A basket contains 7 purple marbles and 3 pink marbles. You randomly choose 6 marbles. What is the probability that you choose exactly 3 pink marbles?"
   ]
  },
  {
   "cell_type": "code",
   "execution_count": 26,
   "metadata": {},
   "outputs": [
    {
     "name": "stdout",
     "output_type": "stream",
     "text": [
      "0.16666666666666666\n"
     ]
    }
   ],
   "source": [
    "k=3\n",
    "n=6\n",
    "N=10\n",
    "K=3\n",
    "p = stats.hypergeom.pmf(k,N,K,n)\n",
    "print(p)"
   ]
  },
  {
   "cell_type": "markdown",
   "metadata": {},
   "source": [
    "\n",
    "\n",
    "## Exercise 4\n",
    "\n",
    "A company, which produces tires, is using new technology to provide safer driving experience to drivers. According to their claim, while speed is 70km/h, breaking distance of those tires have normal distribution with mean equal to 26.4 meters and sigma is equal to 2.34\n",
    "\n",
    "According to standards, breaking distance shouldn't be higher than 29 meters, while speed is 70 km/h. \n",
    "\n",
    "a) What is the probability of being comply with standards ?\n",
    "\n",
    "b) What is the probability of having breaking distance between 26 and 24 ?"
   ]
  },
  {
   "cell_type": "code",
   "execution_count": 31,
   "metadata": {},
   "outputs": [
    {
     "name": "stdout",
     "output_type": "stream",
     "text": [
      "0.8667397370974947\n",
      "0.27960499382023934\n"
     ]
    }
   ],
   "source": [
    "mean=26.4\n",
    "std=2.34\n",
    "\n",
    "pa = stats.norm.cdf(29, mean, std)\n",
    "print(pa)\n",
    "pb = stats.norm.cdf(26, mean, std) - stats.norm.cdf(24, mean, std)\n",
    "print(pb)"
   ]
  }
 ],
 "metadata": {
  "kernelspec": {
   "display_name": "Python 3",
   "language": "python",
   "name": "python3"
  },
  "language_info": {
   "codemirror_mode": {
    "name": "ipython",
    "version": 3
   },
   "file_extension": ".py",
   "mimetype": "text/x-python",
   "name": "python",
   "nbconvert_exporter": "python",
   "pygments_lexer": "ipython3",
   "version": "3.9.2"
  },
  "orig_nbformat": 4
 },
 "nbformat": 4,
 "nbformat_minor": 2
}
