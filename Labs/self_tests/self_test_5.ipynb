{
 "cells": [
  {
   "cell_type": "code",
   "execution_count": 2,
   "metadata": {},
   "outputs": [],
   "source": [
    "import pandas as pd\n",
    "import numpy as np\n",
    "import matplotlib.pyplot as plt\n",
    "import scipy.stats as stats"
   ]
  },
  {
   "cell_type": "code",
   "execution_count": 3,
   "metadata": {},
   "outputs": [
    {
     "data": {
      "text/html": [
       "<div>\n",
       "<style scoped>\n",
       "    .dataframe tbody tr th:only-of-type {\n",
       "        vertical-align: middle;\n",
       "    }\n",
       "\n",
       "    .dataframe tbody tr th {\n",
       "        vertical-align: top;\n",
       "    }\n",
       "\n",
       "    .dataframe thead th {\n",
       "        text-align: right;\n",
       "    }\n",
       "</style>\n",
       "<table border=\"1\" class=\"dataframe\">\n",
       "  <thead>\n",
       "    <tr style=\"text-align: right;\">\n",
       "      <th></th>\n",
       "      <th>Sex</th>\n",
       "      <th>Wr.Hnd</th>\n",
       "      <th>NW.Hnd</th>\n",
       "      <th>W.Hnd</th>\n",
       "      <th>Fold</th>\n",
       "      <th>Pulse</th>\n",
       "      <th>Clap</th>\n",
       "      <th>Exer</th>\n",
       "      <th>Smoke</th>\n",
       "      <th>Height</th>\n",
       "      <th>M.I</th>\n",
       "      <th>Age</th>\n",
       "    </tr>\n",
       "  </thead>\n",
       "  <tbody>\n",
       "    <tr>\n",
       "      <th>1</th>\n",
       "      <td>Female</td>\n",
       "      <td>16.5</td>\n",
       "      <td>15.0</td>\n",
       "      <td>Right</td>\n",
       "      <td>L on R</td>\n",
       "      <td>65.0</td>\n",
       "      <td>Right</td>\n",
       "      <td>Some</td>\n",
       "      <td>Regul</td>\n",
       "      <td>160.02</td>\n",
       "      <td>Imperial</td>\n",
       "      <td>32.750</td>\n",
       "    </tr>\n",
       "    <tr>\n",
       "      <th>4</th>\n",
       "      <td>Male</td>\n",
       "      <td>18.5</td>\n",
       "      <td>18.0</td>\n",
       "      <td>Right</td>\n",
       "      <td>Neither</td>\n",
       "      <td>63.0</td>\n",
       "      <td>Neither</td>\n",
       "      <td>Freq</td>\n",
       "      <td>Never</td>\n",
       "      <td>196.00</td>\n",
       "      <td>Metric</td>\n",
       "      <td>20.083</td>\n",
       "    </tr>\n",
       "    <tr>\n",
       "      <th>5</th>\n",
       "      <td>Male</td>\n",
       "      <td>20.0</td>\n",
       "      <td>19.5</td>\n",
       "      <td>Right</td>\n",
       "      <td>R on L</td>\n",
       "      <td>68.0</td>\n",
       "      <td>Neither</td>\n",
       "      <td>Freq</td>\n",
       "      <td>Regul</td>\n",
       "      <td>190.00</td>\n",
       "      <td>Metric</td>\n",
       "      <td>19.417</td>\n",
       "    </tr>\n",
       "    <tr>\n",
       "      <th>6</th>\n",
       "      <td>Male</td>\n",
       "      <td>18.5</td>\n",
       "      <td>18.0</td>\n",
       "      <td>Right</td>\n",
       "      <td>L on R</td>\n",
       "      <td>64.0</td>\n",
       "      <td>Right</td>\n",
       "      <td>Freq</td>\n",
       "      <td>Never</td>\n",
       "      <td>180.34</td>\n",
       "      <td>Imperial</td>\n",
       "      <td>17.833</td>\n",
       "    </tr>\n",
       "    <tr>\n",
       "      <th>8</th>\n",
       "      <td>Male</td>\n",
       "      <td>18.0</td>\n",
       "      <td>18.0</td>\n",
       "      <td>Right</td>\n",
       "      <td>Neither</td>\n",
       "      <td>60.0</td>\n",
       "      <td>Right</td>\n",
       "      <td>Freq</td>\n",
       "      <td>Never</td>\n",
       "      <td>179.00</td>\n",
       "      <td>Metric</td>\n",
       "      <td>21.583</td>\n",
       "    </tr>\n",
       "  </tbody>\n",
       "</table>\n",
       "</div>"
      ],
      "text/plain": [
       "      Sex  Wr.Hnd  NW.Hnd  W.Hnd     Fold  Pulse     Clap  Exer  Smoke  \\\n",
       "1  Female    16.5    15.0  Right   L on R   65.0    Right  Some  Regul   \n",
       "4    Male    18.5    18.0  Right  Neither   63.0  Neither  Freq  Never   \n",
       "5    Male    20.0    19.5  Right   R on L   68.0  Neither  Freq  Regul   \n",
       "6    Male    18.5    18.0  Right   L on R   64.0    Right  Freq  Never   \n",
       "8    Male    18.0    18.0  Right  Neither   60.0    Right  Freq  Never   \n",
       "\n",
       "   Height       M.I     Age  \n",
       "1  160.02  Imperial  32.750  \n",
       "4  196.00    Metric  20.083  \n",
       "5  190.00    Metric  19.417  \n",
       "6  180.34  Imperial  17.833  \n",
       "8  179.00    Metric  21.583  "
      ]
     },
     "execution_count": 3,
     "metadata": {},
     "output_type": "execute_result"
    }
   ],
   "source": [
    "data = pd.read_csv(\"dataset.csv\")\n",
    "data = data.dropna()\n",
    "data.head()"
   ]
  },
  {
   "cell_type": "code",
   "execution_count": 5,
   "metadata": {},
   "outputs": [
    {
     "name": "stdout",
     "output_type": "stream",
     "text": [
      "Chi-squared statistic: 14.095013808893562\n",
      "p-value: 0.0027786343213513365\n",
      "Degrees of freedom: 3\n",
      "Expected frequencies: [[  7.52631579 114.30592105   7.99671053  13.17105263]\n",
      " [  8.47368421 128.69407895   9.00328947  14.82894737]]\n"
     ]
    }
   ],
   "source": [
    "alpha_level = 0.1\n",
    "data_male = data[data[\"Sex\"]==\"Male\"][\"Smoke\"]\n",
    "data_female = data[data[\"Sex\"]==\"Female\"][\"Smoke\"]\n",
    "\n",
    "ct = pd.crosstab(data[\"Sex\"], data[\"Smoke\"])\n",
    "chi2, p, dof, expected = stats.chi2_contingency(ct)\n",
    "\n",
    "print(\"Chi-squared statistic:\", chi2)\n",
    "print(\"p-value:\", p)\n",
    "print(\"Degrees of freedom:\", dof)\n",
    "print(\"Expected frequencies:\", expected)"
   ]
  },
  {
   "cell_type": "code",
   "execution_count": 8,
   "metadata": {},
   "outputs": [
    {
     "name": "stdout",
     "output_type": "stream",
     "text": [
      "Required sample size per group: 1712.75\n"
     ]
    }
   ],
   "source": [
    "from statsmodels.stats.power import zt_ind_solve_power\n",
    "\n",
    "alpha = 0.1  # significance level\n",
    "power = 0.9  # desired power\n",
    "effect_size = 0.1  # difference in proportions (p1 - p2)\n",
    "\n",
    "sample_size = zt_ind_solve_power(effect_size=effect_size, alpha=alpha, power=power, ratio=1)\n",
    "print(f\"Required sample size per group: {sample_size:.2f}\")\n"
   ]
  },
  {
   "cell_type": "code",
   "execution_count": null,
   "metadata": {},
   "outputs": [],
   "source": []
  },
  {
   "cell_type": "code",
   "execution_count": null,
   "metadata": {},
   "outputs": [],
   "source": []
  }
 ],
 "metadata": {
  "kernelspec": {
   "display_name": "Python 3",
   "language": "python",
   "name": "python3"
  },
  "language_info": {
   "codemirror_mode": {
    "name": "ipython",
    "version": 3
   },
   "file_extension": ".py",
   "mimetype": "text/x-python",
   "name": "python",
   "nbconvert_exporter": "python",
   "pygments_lexer": "ipython3",
   "version": "3.9.2"
  },
  "orig_nbformat": 4
 },
 "nbformat": 4,
 "nbformat_minor": 2
}
