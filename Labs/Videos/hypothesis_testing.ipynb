{
 "cells": [
  {
   "cell_type": "markdown",
   "metadata": {},
   "source": [
    "# One sample T-test"
   ]
  },
  {
   "cell_type": "code",
   "execution_count": 3,
   "metadata": {},
   "outputs": [
    {
     "name": "stdout",
     "output_type": "stream",
     "text": [
      "43.00018\n",
      "39.86\n"
     ]
    }
   ],
   "source": [
    "import numpy as np\n",
    "import pandas as pd\n",
    "from scipy import stats\n",
    "import matplotlib.pyplot as plt\n",
    "\n",
    "population_ages1 = stats.poisson.rvs(loc=18, mu=35, size=150000)\n",
    "population_ages2 = stats.poisson.rvs(loc=18, mu=10, size=100000)\n",
    "population_ages = np.concatenate([population_ages1, population_ages2])\n",
    "\n",
    "minnesota_ages1 = stats.poisson.rvs(loc=18, mu=30, size=30)\n",
    "minnesota_ages2 = stats.poisson.rvs(loc=18, mu=10, size=20)\n",
    "minnesota_ages = np.concatenate([minnesota_ages1, minnesota_ages2])\n",
    "\n",
    "print(population_ages.mean())\n",
    "print(minnesota_ages.mean())"
   ]
  },
  {
   "cell_type": "code",
   "execution_count": 13,
   "metadata": {},
   "outputs": [
    {
     "name": "stdout",
     "output_type": "stream",
     "text": [
      "0.03713056312183023\n",
      "-2.1426998449717276\n"
     ]
    }
   ],
   "source": [
    "result = stats.ttest_1samp(a=minnesota_ages,\n",
    "                           popmean=population_ages.mean())\n",
    "print(result.pvalue)\n",
    "print(result.statistic)"
   ]
  },
  {
   "cell_type": "code",
   "execution_count": 16,
   "metadata": {},
   "outputs": [
    {
     "name": "stdout",
     "output_type": "stream",
     "text": [
      "If values like outside of these t scores: -2.0095752371292397, 2.0095752371292397.\n",
      "Then we can say that we have the evidence of rejecting NULL hypothesis.\n",
      "0.03713056312183023\n",
      "True\n"
     ]
    }
   ],
   "source": [
    "error = 0.05\n",
    "t_score1 = stats.t.ppf(q=error/2, # q means quantile!!!\n",
    "                       df=49)\n",
    "t_score2 = stats.t.ppf(q=1-error/2,\n",
    "                       df=49)\n",
    "print(f\"If values like outside of these t scores: {t_score1}, {t_score2}.\\nThen we can say that we have the evidence of rejecting NULL hypothesis.\")\n",
    "\n",
    "proba = stats.t.cdf(x=result.statistic,df=49) * 2 # *2 since two tailed\n",
    "print(proba)\n",
    "print(np.isclose(proba, result.pvalue))"
   ]
  },
  {
   "cell_type": "code",
   "execution_count": 17,
   "metadata": {},
   "outputs": [
    {
     "name": "stdout",
     "output_type": "stream",
     "text": [
      "CI = (36.94451700013237, 42.77548299986763)\n"
     ]
    }
   ],
   "source": [
    "SE = minnesota_ages.std() / np.sqrt(50)\n",
    "CI = stats.t.interval(0.95,\n",
    "                      49,\n",
    "                      minnesota_ages.mean(),\n",
    "                      SE)\n",
    "print(f\"CI = {CI}\") # We expect not to capture true population mean"
   ]
  },
  {
   "cell_type": "code",
   "execution_count": 18,
   "metadata": {},
   "outputs": [
    {
     "name": "stdout",
     "output_type": "stream",
     "text": [
      "CI = (35.971937351125916, 43.74806264887408)\n"
     ]
    }
   ],
   "source": [
    "SE = minnesota_ages.std() / np.sqrt(50)\n",
    "CI = stats.t.interval(0.99,\n",
    "                      49,\n",
    "                      minnesota_ages.mean(),\n",
    "                      SE)\n",
    "print(f\"CI = {CI}\") # We to capture true population mean since 0.99 > 1-alpha_level"
   ]
  },
  {
   "cell_type": "markdown",
   "metadata": {},
   "source": [
    "# Two sample T-test\n",
    "\n",
    "We compare two data samples to one another. `NULL` hypothesis states that both groups are the same."
   ]
  },
  {
   "cell_type": "code",
   "execution_count": 27,
   "metadata": {},
   "outputs": [],
   "source": [
    "np.random.seed(1)\n",
    "wilcoin_ages1 = stats.poisson.rvs(loc=18, mu=33, size=30)\n",
    "wilcoin_ages2 = stats.poisson.rvs(loc=18, mu=13, size=20)\n",
    "wilcoin_ages = np.concatenate([wilcoin_ages1, wilcoin_ages2])"
   ]
  },
  {
   "cell_type": "code",
   "execution_count": 29,
   "metadata": {},
   "outputs": [
    {
     "name": "stdout",
     "output_type": "stream",
     "text": [
      "We do not reject NULL hypothesis\n"
     ]
    },
    {
     "data": {
      "text/plain": [
       "TtestResult(statistic=1.5557986661183318, pvalue=0.12299454330100068, df=97.547544166257)"
      ]
     },
     "execution_count": 29,
     "metadata": {},
     "output_type": "execute_result"
    }
   ],
   "source": [
    "alpha_level = 0.05\n",
    "result2 = stats.ttest_ind(wilcoin_ages, \n",
    "                          minnesota_ages, \n",
    "                          equal_var=False) # Perform Welch's T-test\n",
    "print(\"We reject NULL hypothesis\") if result2.pvalue < alpha_level else print(\"We do not reject NULL hypothesis\")\n",
    "result2"
   ]
  },
  {
   "cell_type": "markdown",
   "metadata": {},
   "source": [
    "# Paired T-test\n",
    "\n",
    "It is designed to test the differences between independent groups."
   ]
  },
  {
   "cell_type": "code",
   "execution_count": 46,
   "metadata": {},
   "outputs": [
    {
     "data": {
      "text/html": [
       "<div>\n",
       "<style scoped>\n",
       "    .dataframe tbody tr th:only-of-type {\n",
       "        vertical-align: middle;\n",
       "    }\n",
       "\n",
       "    .dataframe tbody tr th {\n",
       "        vertical-align: top;\n",
       "    }\n",
       "\n",
       "    .dataframe thead th {\n",
       "        text-align: right;\n",
       "    }\n",
       "</style>\n",
       "<table border=\"1\" class=\"dataframe\">\n",
       "  <thead>\n",
       "    <tr style=\"text-align: right;\">\n",
       "      <th></th>\n",
       "      <th>weight_before</th>\n",
       "      <th>weight_after</th>\n",
       "      <th>weight_difference</th>\n",
       "    </tr>\n",
       "  </thead>\n",
       "  <tbody>\n",
       "    <tr>\n",
       "      <th>count</th>\n",
       "      <td>100.000000</td>\n",
       "      <td>100.000000</td>\n",
       "      <td>100.000000</td>\n",
       "    </tr>\n",
       "    <tr>\n",
       "      <th>mean</th>\n",
       "      <td>244.863755</td>\n",
       "      <td>242.467136</td>\n",
       "      <td>-2.396619</td>\n",
       "    </tr>\n",
       "    <tr>\n",
       "      <th>std</th>\n",
       "      <td>31.079057</td>\n",
       "      <td>31.296827</td>\n",
       "      <td>5.177046</td>\n",
       "    </tr>\n",
       "    <tr>\n",
       "      <th>min</th>\n",
       "      <td>176.843508</td>\n",
       "      <td>172.403133</td>\n",
       "      <td>-18.109797</td>\n",
       "    </tr>\n",
       "    <tr>\n",
       "      <th>25%</th>\n",
       "      <td>225.707398</td>\n",
       "      <td>222.007707</td>\n",
       "      <td>-4.989827</td>\n",
       "    </tr>\n",
       "    <tr>\n",
       "      <th>50%</th>\n",
       "      <td>243.294904</td>\n",
       "      <td>242.979325</td>\n",
       "      <td>-2.542519</td>\n",
       "    </tr>\n",
       "    <tr>\n",
       "      <th>75%</th>\n",
       "      <td>264.720763</td>\n",
       "      <td>261.352167</td>\n",
       "      <td>0.291699</td>\n",
       "    </tr>\n",
       "    <tr>\n",
       "      <th>max</th>\n",
       "      <td>330.897067</td>\n",
       "      <td>338.564600</td>\n",
       "      <td>11.173041</td>\n",
       "    </tr>\n",
       "  </tbody>\n",
       "</table>\n",
       "</div>"
      ],
      "text/plain": [
       "       weight_before  weight_after  weight_difference\n",
       "count     100.000000    100.000000         100.000000\n",
       "mean      244.863755    242.467136          -2.396619\n",
       "std        31.079057     31.296827           5.177046\n",
       "min       176.843508    172.403133         -18.109797\n",
       "25%       225.707398    222.007707          -4.989827\n",
       "50%       243.294904    242.979325          -2.542519\n",
       "75%       264.720763    261.352167           0.291699\n",
       "max       330.897067    338.564600          11.173041"
      ]
     },
     "execution_count": 46,
     "metadata": {},
     "output_type": "execute_result"
    }
   ],
   "source": [
    "np.random.seed(14)\n",
    "before = stats.norm.rvs(scale=30, loc=250, size=100)\n",
    "after = before + stats.norm.rvs(scale=5, loc=-1.25, size=100)\n",
    "weight_df = pd.DataFrame({\"weight_before\":before,\n",
    "                          \"weight_after\":after,\n",
    "                          \"weight_difference\":after-before})\n",
    "weight_df.describe()"
   ]
  },
  {
   "cell_type": "code",
   "execution_count": 47,
   "metadata": {},
   "outputs": [
    {
     "data": {
      "text/plain": [
       "TtestResult(statistic=4.629316964157346, pvalue=1.1151477052678931e-05, df=99)"
      ]
     },
     "execution_count": 47,
     "metadata": {},
     "output_type": "execute_result"
    }
   ],
   "source": [
    "result3 = stats.ttest_rel(a=before,\n",
    "                          b=after)\n",
    "result3"
   ]
  },
  {
   "cell_type": "code",
   "execution_count": null,
   "metadata": {},
   "outputs": [],
   "source": []
  },
  {
   "cell_type": "code",
   "execution_count": null,
   "metadata": {},
   "outputs": [],
   "source": []
  }
 ],
 "metadata": {
  "kernelspec": {
   "display_name": "Python 3",
   "language": "python",
   "name": "python3"
  },
  "language_info": {
   "codemirror_mode": {
    "name": "ipython",
    "version": 3
   },
   "file_extension": ".py",
   "mimetype": "text/x-python",
   "name": "python",
   "nbconvert_exporter": "python",
   "pygments_lexer": "ipython3",
   "version": "3.9.2"
  },
  "orig_nbformat": 4
 },
 "nbformat": 4,
 "nbformat_minor": 2
}
