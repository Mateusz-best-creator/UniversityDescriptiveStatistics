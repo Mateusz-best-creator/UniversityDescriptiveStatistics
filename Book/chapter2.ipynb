{
 "cells": [
  {
   "cell_type": "code",
   "execution_count": 2,
   "metadata": {},
   "outputs": [],
   "source": [
    "import pandas as pd\n",
    "import numpy as np\n",
    "import matplotlib.pyplot as plt\n",
    "import scipy\n",
    "from scipy import stats"
   ]
  },
  {
   "cell_type": "code",
   "execution_count": 13,
   "metadata": {},
   "outputs": [
    {
     "name": "stdout",
     "output_type": "stream",
     "text": [
      "[0]\n",
      "[1 0 1 0 0 1 0 0 0 0]\n",
      "0.18\n",
      "0.2948\n",
      "0.300017\n"
     ]
    }
   ],
   "source": [
    "success=0.3\n",
    "print(np.random.binomial(1, 0.3, 1))\n",
    "print(np.random.binomial(1, 0.3, 10))\n",
    "\n",
    "print(sum(np.random.binomial(1, 0.3, 100)) / 100)\n",
    "print(sum(np.random.binomial(1, 0.3, 10000)) / 10000)\n",
    "print(sum(np.random.binomial(1, 0.3, 1000000)) / 1000000)"
   ]
  },
  {
   "cell_type": "markdown",
   "metadata": {},
   "source": [
    "Y -> Victim's race\n",
    "X -> Offender's race\n",
    "\n",
    "We need P(Y=white)\n",
    "\n",
    "P(Y=white | X=white) = 0.903"
   ]
  },
  {
   "cell_type": "code",
   "execution_count": 38,
   "metadata": {},
   "outputs": [
    {
     "name": "stdout",
     "output_type": "stream",
     "text": [
      "0.992\n",
      "0.507\n",
      "0.97066\n"
     ]
    }
   ],
   "source": [
    "import random\n",
    "\n",
    "sample_space = 365**3\n",
    "different_days = 365*364*363\n",
    "probability = different_days / sample_space\n",
    "print(round(probability, 3))\n",
    "\n",
    "n = 23\n",
    "probability = 1\n",
    "for i in range(n):\n",
    "    probability *= (365-i) / 365\n",
    "\n",
    "probability = 1 - probability\n",
    "print(round(probability, 3))\n",
    "\n",
    "population = list(range(1, 366))\n",
    "result = 0\n",
    "def sample_sim():\n",
    "    global result\n",
    "    sample = np.random.choice(population,\n",
    "                                size=50,\n",
    "                                replace=True)\n",
    "    if len(sample) - len(set(sample)) > 0:\n",
    "        result += 1\n",
    "\n",
    "n = 100000\n",
    "for _ in range(n):\n",
    "    sample_sim()\n",
    "\n",
    "print(result/n)"
   ]
  },
  {
   "cell_type": "code",
   "execution_count": 43,
   "metadata": {},
   "outputs": [
    {
     "name": "stdout",
     "output_type": "stream",
     "text": [
      "1.4998709\n"
     ]
    }
   ],
   "source": [
    "result = np.random.binomial(30000000, 0.5, 1)[0] / 10000000\n",
    "print(result)"
   ]
  },
  {
   "cell_type": "code",
   "execution_count": 48,
   "metadata": {},
   "outputs": [
    {
     "name": "stdout",
     "output_type": "stream",
     "text": [
      "0.0 0.10737\n"
     ]
    },
    {
     "data": {
      "text/plain": [
       "(2.0, 1.2649110640673518)"
      ]
     },
     "execution_count": 48,
     "metadata": {},
     "output_type": "execute_result"
    }
   ],
   "source": [
    "result_a = 0.2 ** 10\n",
    "result_b = 0.8 ** 10\n",
    "print(round(result_a, 5), round(result_b, 5))\n",
    "\n",
    "n = 10\n",
    "success = 0.2\n",
    "mean = n * success\n",
    "std = ((n*success*(1-success))**0.5)\n",
    "mean, std"
   ]
  },
  {
   "cell_type": "code",
   "execution_count": 11,
   "metadata": {},
   "outputs": [
    {
     "data": {
      "text/plain": [
       "0.3348979766803842"
      ]
     },
     "execution_count": 11,
     "metadata": {},
     "output_type": "execute_result"
    }
   ],
   "source": [
    "result = (5/6) ** 6\n",
    "result"
   ]
  },
  {
   "cell_type": "markdown",
   "metadata": {},
   "source": [
    "Geometric distribution\n",
    "\n",
    "pmf = (1-1/6) ** y-1 * 1/6"
   ]
  },
  {
   "cell_type": "markdown",
   "metadata": {},
   "source": [
    "To have a Poisson distribution we should have:\n",
    "\n",
    "- Independent trials\n",
    "- All probabilities for each home are the same\n",
    "- For very large n and small success binomial distribution is approximated by poisson distribution where mean=n*success"
   ]
  },
  {
   "cell_type": "code",
   "execution_count": 19,
   "metadata": {},
   "outputs": [
    {
     "name": "stdout",
     "output_type": "stream",
     "text": [
      "Z scores = -0.6, 1.4\n"
     ]
    },
    {
     "data": {
      "text/plain": [
       "64.5"
      ]
     },
     "execution_count": 19,
     "metadata": {},
     "output_type": "execute_result"
    }
   ],
   "source": [
    "# B => 800-900\n",
    "# MAX = 1000\n",
    "# Total scores have approximately normal distribution\n",
    "# mean=830 std=50\n",
    "# What proportion of students receive B?\n",
    "mean=830\n",
    "std=50\n",
    "z1_score = (800 - mean) / std\n",
    "z2_score = (900 - mean) / std\n",
    "print(f\"Z scores = {z1_score}, {z2_score}\")\n",
    "\n",
    "z1_value = stats.norm.cdf(z1_score)\n",
    "z2_value = stats.norm.cdf(z2_score)\n",
    "proportion = z2_value - z1_value\n",
    "round(proportion*100, 2)"
   ]
  },
  {
   "cell_type": "code",
   "execution_count": 22,
   "metadata": {},
   "outputs": [
    {
     "name": "stdout",
     "output_type": "stream",
     "text": [
      "0.15865525393145707 0.3085375387259869\n",
      "0.660407317011445\n"
     ]
    }
   ],
   "source": [
    "# People who score above 400 pass\n",
    "\n",
    "# Group A\n",
    "mean_A = 500\n",
    "std_A = 100\n",
    "# Group B\n",
    "mean_B = 450\n",
    "std_B = 100\n",
    "# Both normal and same size\n",
    "\n",
    "zA_score = (400 - mean_A) / std_A\n",
    "zB_score = (400 - mean_B) / std_B\n",
    "zA_value = stats.norm.cdf(zA_score)\n",
    "zB_value = stats.norm.cdf(zB_score)\n",
    "\n",
    "not_passed_A = zA_value\n",
    "not_passed_B = zB_value\n",
    "print(not_passed_A, not_passed_B)\n",
    "\n",
    "people_from_B = not_passed_B / (not_passed_A + not_passed_B)\n",
    "print(people_from_B)"
   ]
  },
  {
   "cell_type": "code",
   "execution_count": 23,
   "metadata": {},
   "outputs": [
    {
     "name": "stdout",
     "output_type": "stream",
     "text": [
      "0.0227501319481792 0.06680720126885806\n",
      "0.7459713109919708\n"
     ]
    }
   ],
   "source": [
    "# After they lowered the threshold to 300\n",
    "zA_score = (300 - mean_A) / std_A\n",
    "zB_score = (300 - mean_B) / std_B\n",
    "zA_value = stats.norm.cdf(zA_score)\n",
    "zB_value = stats.norm.cdf(zB_score)\n",
    "\n",
    "not_passed_A = zA_value\n",
    "not_passed_B = zB_value\n",
    "print(not_passed_A, not_passed_B)\n",
    "\n",
    "people_from_B = not_passed_B / (not_passed_A + not_passed_B)\n",
    "print(people_from_B)"
   ]
  },
  {
   "cell_type": "code",
   "execution_count": 30,
   "metadata": {},
   "outputs": [
    {
     "name": "stdout",
     "output_type": "stream",
     "text": [
      "Scale=0.5: Mean = 1.5, Std = 0.8660254037844386\n",
      "Scale=1: Mean = 3, Std = 1.7320508075688772\n",
      "Scale=2: Mean = 6, Std = 3.4641016151377544\n",
      "Scale=3: Mean = 9, Std = 5.196152422706632\n",
      "Scale=4: Mean = 12, Std = 6.928203230275509\n",
      "Scale=5: Mean = 15, Std = 8.660254037844387\n"
     ]
    },
    {
     "data": {
      "image/png": "[encoded data removed]",
      "text/plain": [
       "<Figure size 1000x600 with 1 Axes>"
      ]
     },
     "metadata": {},
     "output_type": "display_data"
    }
   ],
   "source": [
    "x = np.linspace(0, 50, 100)\n",
    "scales = [0.5, 1, 2, 3, 4, 5]\n",
    "shape = 3\n",
    "\n",
    "fig = plt.figure(figsize=(10, 6))\n",
    "plt.title(\"Gamma Distribution\")\n",
    "for scale in scales:\n",
    "    y = stats.gamma.pdf(x, a=shape, scale=scale)\n",
    "    mean = shape * scale  # Mean of the gamma distribution\n",
    "    std = np.sqrt(shape * scale**2)  # Standard deviation of the gamma distribution\n",
    "    print(f\"Scale={scale}: Mean = {mean}, Std = {std}\")\n",
    "    plt.plot(x, y, label=f\"Scale={scale}\")\n",
    "plt.legend()\n",
    "plt.show()\n"
   ]
  },
  {
   "cell_type": "code",
   "execution_count": 3,
   "metadata": {},
   "outputs": [
    {
     "data": {
      "text/html": [
       "<div>\n",
       "<style scoped>\n",
       "    .dataframe tbody tr th:only-of-type {\n",
       "        vertical-align: middle;\n",
       "    }\n",
       "\n",
       "    .dataframe tbody tr th {\n",
       "        vertical-align: top;\n",
       "    }\n",
       "\n",
       "    .dataframe thead th {\n",
       "        text-align: right;\n",
       "    }\n",
       "</style>\n",
       "<table border=\"1\" class=\"dataframe\">\n",
       "  <thead>\n",
       "    <tr style=\"text-align: right;\">\n",
       "      <th></th>\n",
       "      <th>0</th>\n",
       "    </tr>\n",
       "  </thead>\n",
       "  <tbody>\n",
       "    <tr>\n",
       "      <th>0</th>\n",
       "      <td>subject  postlife      religion      gender</td>\n",
       "    </tr>\n",
       "    <tr>\n",
       "      <th>1</th>\n",
       "      <td>1    1  1  1</td>\n",
       "    </tr>\n",
       "    <tr>\n",
       "      <th>2</th>\n",
       "      <td>2    1  1  1</td>\n",
       "    </tr>\n",
       "    <tr>\n",
       "      <th>3</th>\n",
       "      <td>3    1  1  1</td>\n",
       "    </tr>\n",
       "    <tr>\n",
       "      <th>4</th>\n",
       "      <td>4    1  1  1</td>\n",
       "    </tr>\n",
       "    <tr>\n",
       "      <th>...</th>\n",
       "      <td>...</td>\n",
       "    </tr>\n",
       "    <tr>\n",
       "      <th>1549</th>\n",
       "      <td>1549    2  3  2</td>\n",
       "    </tr>\n",
       "    <tr>\n",
       "      <th>1550</th>\n",
       "      <td>1550    2  3  2</td>\n",
       "    </tr>\n",
       "    <tr>\n",
       "      <th>1551</th>\n",
       "      <td>1551    2  3  2</td>\n",
       "    </tr>\n",
       "    <tr>\n",
       "      <th>1552</th>\n",
       "      <td>1552    2  3  2</td>\n",
       "    </tr>\n",
       "    <tr>\n",
       "      <th>1553</th>\n",
       "      <td>1553    2  3  2</td>\n",
       "    </tr>\n",
       "  </tbody>\n",
       "</table>\n",
       "<p>1554 rows × 1 columns</p>\n",
       "</div>"
      ],
      "text/plain": [
       "                                                  0\n",
       "0     subject  postlife      religion      gender  \n",
       "1                                      1    1  1  1\n",
       "2                                      2    1  1  1\n",
       "3                                      3    1  1  1\n",
       "4                                      4    1  1  1\n",
       "...                                             ...\n",
       "1549                                1549    2  3  2\n",
       "1550                                1550    2  3  2\n",
       "1551                                1551    2  3  2\n",
       "1552                                1552    2  3  2\n",
       "1553                                1553    2  3  2\n",
       "\n",
       "[1554 rows x 1 columns]"
      ]
     },
     "execution_count": 3,
     "metadata": {},
     "output_type": "execute_result"
    }
   ],
   "source": [
    "url=\"http://stat4ds.rwth-aachen.de/data/Afterlife.dat\"\n",
    "data = pd.read_csv(url, header=None) \n",
    "data"
   ]
  },
  {
   "cell_type": "code",
   "execution_count": 4,
   "metadata": {},
   "outputs": [
    {
     "name": "stdout",
     "output_type": "stream",
     "text": [
      "  LifeAfterDeath Religion\n",
      "1              1        1\n",
      "2              1        1\n",
      "3              1        1\n",
      "4              1        1\n",
      "5              1        1\n",
      "Belief in Afterlife    1    2\n",
      "Religion                     \n",
      "1                    956  114\n",
      "2                    384   65\n",
      "3                     17   17\n"
     ]
    }
   ],
   "source": [
    "dataframe = pd.DataFrame(columns=[\"LifeAfterDeath\", \"Religion\"])\n",
    "\n",
    "for index, row in data.iterrows():\n",
    "    if index == 0:\n",
    "        continue\n",
    "    dataframe.loc[index] = (row[0].split(\" \")[6], row[0].split(\" \")[8])\n",
    "\n",
    "print(dataframe.head())\n",
    "\n",
    "dataframe[\"LifeAfterDeath\"] = dataframe[\"LifeAfterDeath\"].astype(int)\n",
    "dataframe[\"Religion\"] = dataframe[\"Religion\"].astype(int) \n",
    "\n",
    "contingency_table = pd.crosstab(index=dataframe[\"Religion\"],  # Rows: Religion\n",
    "                                columns=dataframe[\"LifeAfterDeath\"],  # Columns: LifeAfterDeath\n",
    "                                rownames=[\"Religion\"],\n",
    "                                colnames=[\"Belief in Afterlife\"])\n",
    "\n",
    "print(contingency_table)\n"
   ]
  },
  {
   "cell_type": "code",
   "execution_count": 8,
   "metadata": {},
   "outputs": [
    {
     "data": {
      "text/html": [
       "<div>\n",
       "<style scoped>\n",
       "    .dataframe tbody tr th:only-of-type {\n",
       "        vertical-align: middle;\n",
       "    }\n",
       "\n",
       "    .dataframe tbody tr th {\n",
       "        vertical-align: top;\n",
       "    }\n",
       "\n",
       "    .dataframe thead th {\n",
       "        text-align: right;\n",
       "    }\n",
       "</style>\n",
       "<table border=\"1\" class=\"dataframe\">\n",
       "  <thead>\n",
       "    <tr style=\"text-align: right;\">\n",
       "      <th>Belief in Afterlife</th>\n",
       "      <th>1</th>\n",
       "      <th>2</th>\n",
       "    </tr>\n",
       "    <tr>\n",
       "      <th>Religion</th>\n",
       "      <th></th>\n",
       "      <th></th>\n",
       "    </tr>\n",
       "  </thead>\n",
       "  <tbody>\n",
       "    <tr>\n",
       "      <th>1</th>\n",
       "      <td>956</td>\n",
       "      <td>114</td>\n",
       "    </tr>\n",
       "    <tr>\n",
       "      <th>2</th>\n",
       "      <td>384</td>\n",
       "      <td>65</td>\n",
       "    </tr>\n",
       "    <tr>\n",
       "      <th>3</th>\n",
       "      <td>17</td>\n",
       "      <td>17</td>\n",
       "    </tr>\n",
       "  </tbody>\n",
       "</table>\n",
       "</div>"
      ],
      "text/plain": [
       "Belief in Afterlife    1    2\n",
       "Religion                     \n",
       "1                    956  114\n",
       "2                    384   65\n",
       "3                     17   17"
      ]
     },
     "execution_count": 8,
     "metadata": {},
     "output_type": "execute_result"
    }
   ],
   "source": [
    "contingency_table"
   ]
  },
  {
   "cell_type": "code",
   "execution_count": 25,
   "metadata": {},
   "outputs": [
    {
     "data": {
      "text/html": [
       "<div>\n",
       "<style scoped>\n",
       "    .dataframe tbody tr th:only-of-type {\n",
       "        vertical-align: middle;\n",
       "    }\n",
       "\n",
       "    .dataframe tbody tr th {\n",
       "        vertical-align: top;\n",
       "    }\n",
       "\n",
       "    .dataframe thead th {\n",
       "        text-align: right;\n",
       "    }\n",
       "</style>\n",
       "<table border=\"1\" class=\"dataframe\">\n",
       "  <thead>\n",
       "    <tr style=\"text-align: right;\">\n",
       "      <th></th>\n",
       "      <th>1</th>\n",
       "      <th>2</th>\n",
       "      <th>3</th>\n",
       "    </tr>\n",
       "  </thead>\n",
       "  <tbody>\n",
       "    <tr>\n",
       "      <th>0</th>\n",
       "      <td>0.615583</td>\n",
       "      <td>0.073406</td>\n",
       "      <td>0.688989</td>\n",
       "    </tr>\n",
       "    <tr>\n",
       "      <th>1</th>\n",
       "      <td>0.247263</td>\n",
       "      <td>0.041854</td>\n",
       "      <td>0.289118</td>\n",
       "    </tr>\n",
       "    <tr>\n",
       "      <th>2</th>\n",
       "      <td>0.010947</td>\n",
       "      <td>0.010947</td>\n",
       "      <td>0.021893</td>\n",
       "    </tr>\n",
       "  </tbody>\n",
       "</table>\n",
       "</div>"
      ],
      "text/plain": [
       "          1         2         3\n",
       "0  0.615583  0.073406  0.688989\n",
       "1  0.247263  0.041854  0.289118\n",
       "2  0.010947  0.010947  0.021893"
      ]
     },
     "execution_count": 25,
     "metadata": {},
     "output_type": "execute_result"
    }
   ],
   "source": [
    "data = {1: [956, 384, 17],\n",
    "        2: [114, 65, 17]}\n",
    "contigency_table_normalized = pd.DataFrame(data)\n",
    "total = contigency_table_normalized.values.sum()\n",
    "contigency_table_normalized /= total\n",
    "contigency_table_normalized[3] = (contigency_table_normalized[1][0] + contigency_table_normalized[2][0],\n",
    "                                  contigency_table_normalized[1][1] + contigency_table_normalized[2][1],\n",
    "                                  contigency_table_normalized[1][2] + contigency_table_normalized[2][2])\n",
    "contigency_table_normalized"
   ]
  },
  {
   "cell_type": "code",
   "execution_count": 19,
   "metadata": {},
   "outputs": [
    {
     "data": {
      "text/plain": [
       "1.0"
      ]
     },
     "execution_count": 19,
     "metadata": {},
     "output_type": "execute_result"
    }
   ],
   "source": [
    "contigency_table_normalized.values.sum() # should be 1"
   ]
  },
  {
   "cell_type": "code",
   "execution_count": 23,
   "metadata": {},
   "outputs": [
    {
     "data": {
      "text/plain": [
       "0.126207"
      ]
     },
     "execution_count": 23,
     "metadata": {},
     "output_type": "execute_result"
    }
   ],
   "source": [
    "0.073406 + 0.041854 + 0.010947"
   ]
  },
  {
   "cell_type": "markdown",
   "metadata": {},
   "source": [
    "X -> Religion\n",
    "\n",
    "Y -> Believe in afterdeath\n",
    "\n",
    "marginal distribution of Y = (0.8736, 0.126207)\n",
    "\n",
    "marginal distribution of X = (0.688, 0.289, 0.021)\n",
    "\n",
    "P(X=x | Y=y) = 1* 1 * 0.61 + 1 * 2 + 0.07 + ... + 2 * 2 * 0.01"
   ]
  },
  {
   "cell_type": "code",
   "execution_count": 32,
   "metadata": {},
   "outputs": [
    {
     "name": "stdout",
     "output_type": "stream",
     "text": [
      "P(X=1 | Y=1): 0.6155827430779137\n",
      "P(X=2 | Y=1): 0.07340631036703155\n",
      "P(X=1 | Y=2): 0.24726336123631681\n",
      "P(X=2 | Y=2): 0.04185447520927238\n",
      "P(X=1 | Y=3): 0.010946555054732776\n",
      "P(X=2 | Y=3): 0.010946555054732776\n"
     ]
    },
    {
     "data": {
      "text/plain": [
       "1.5228589826142949"
      ]
     },
     "execution_count": 32,
     "metadata": {},
     "output_type": "execute_result"
    }
   ],
   "source": [
    "selected_columns = [1, 2]\n",
    "selected_rows = contigency_table_normalized.iloc[:3]\n",
    "\n",
    "result = 0\n",
    "for index, row in selected_rows.iterrows():  \n",
    "    for i, col in enumerate(selected_columns):\n",
    "        result += col * (index+1) * row[col]\n",
    "        print(f\"P(X={col} | Y={index+1}): {row[col]}\")\n",
    "\n",
    "result"
   ]
  },
  {
   "cell_type": "code",
   "execution_count": 7,
   "metadata": {},
   "outputs": [
    {
     "data": {
      "image/png": "[encoded data removed]",
      "text/plain": [
       "<Figure size 640x480 with 1 Axes>"
      ]
     },
     "metadata": {},
     "output_type": "display_data"
    }
   ],
   "source": [
    "x = np.random.normal(loc=162, scale=7, size=300)\n",
    "y = np.random.normal(loc=3 + 0.4*x, scale=8, size=300)\n",
    "plt.scatter(x, y)\n",
    "plt.show()"
   ]
  },
  {
   "cell_type": "code",
   "execution_count": 9,
   "metadata": {},
   "outputs": [
    {
     "data": {
      "text/plain": [
       "0.3059484253381572"
      ]
     },
     "execution_count": 9,
     "metadata": {},
     "output_type": "execute_result"
    }
   ],
   "source": [
    "# I guess correlation between 0.3 - 0.4\n",
    "correlation = np.corrcoef(x, y)[0][1]\n",
    "correlation"
   ]
  },
  {
   "cell_type": "code",
   "execution_count": null,
   "metadata": {},
   "outputs": [],
   "source": []
  }
 ],
 "metadata": {
  "kernelspec": {
   "display_name": "Python 3",
   "language": "python",
   "name": "python3"
  },
  "language_info": {
   "codemirror_mode": {
    "name": "ipython",
    "version": 3
   },
   "file_extension": ".py",
   "mimetype": "text/x-python",
   "name": "python",
   "nbconvert_exporter": "python",
   "pygments_lexer": "ipython3",
   "version": "3.9.2"
  },
  "orig_nbformat": 4
 },
 "nbformat": 4,
 "nbformat_minor": 2
}
