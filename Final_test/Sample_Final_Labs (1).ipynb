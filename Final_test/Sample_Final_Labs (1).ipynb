{
 "cells": [
  {
   "cell_type": "markdown",
   "metadata": {},
   "source": [
    "## Introduction to the Sample Final Test\n",
    "\n",
    "Dear Students,\n",
    "\n",
    "Welcome to the sample final test for our laboratory course. This test is designed to assess your understanding and application of the concepts and techniques we have covered throughout the semester. \n",
    "\n",
    "Instructions:\n",
    "\n",
    "Read Each Question Carefully: Ensure you understand what is being asked before you start coding.\n",
    "\n",
    "Write Clean and Commented Code: Your code should be well-organized and include comments explaining your logic.\n",
    "\n",
    "Test Your Code: Make sure to test your code with different inputs to ensure it works correctly.\n",
    "\n",
    "Conclusions: Make final decisions, decide about the statistical and practical significance. \n",
    "\n",
    "Resources:\n",
    "\n",
    "You are allowed to use your notes, textbooks, and online resources to help you complete the test. \n",
    "\n",
    "**Please be advised that the use of any Generative AI (GenAI) tools is strictly prohibited during this test. This includes, but is not limited to, tools that generate code, text, or any other form of content based on AI algorithms.**\n",
    "\n",
    "Collaboration with classmates is not permitted. This test is an individual assessment of your skills.\n",
    "\n",
    "I encourage you to take your time and approach each question methodically. This test is an opportunity to demonstrate your proficiency and understanding of the material. \n",
    "\n",
    "Best regards,\n",
    "\n",
    "Karol\n",
    "/Mathematical Statistics 2024/2025/\n",
    "\n"
   ]
  },
  {
   "cell_type": "markdown",
   "metadata": {},
   "source": [
    "# Task 1: Verify the Hypothesis\n",
    "\n",
    "Objective: Verify the hypothesis that the salaries of professors working in theoretical departments (B) are much lower than those working in applied departments (A)."
   ]
  },
  {
   "cell_type": "code",
   "execution_count": 2,
   "metadata": {},
   "outputs": [
    {
     "name": "stdout",
     "output_type": "stream",
     "text": [
      "   rownames      rank discipline  yrs.since.phd  yrs.service   sex  salary\n",
      "0         1      Prof          B             19           18  Male  139750\n",
      "1         2      Prof          B             20           16  Male  173200\n",
      "2         3  AsstProf          B              4            3  Male   79750\n",
      "3         4      Prof          B             45           39  Male  115000\n",
      "4         5      Prof          B             40           41  Male  141500\n"
     ]
    }
   ],
   "source": [
    "import pandas as pd\n",
    "\n",
    "# Load the Salaries dataset from the URL\n",
    "url = \"https://vincentarelbundock.github.io/Rdatasets/csv/carData/Salaries.csv\"\n",
    "salaries = pd.read_csv(url)\n",
    "\n",
    "# Filter the data based on the department type\n",
    "theoretical_salaries = salaries[salaries['discipline'] == 'B']['salary']\n",
    "applied_salaries = salaries[salaries['discipline'] == 'A']['salary']\n",
    "\n",
    "# Display the first few rows of the dataset\n",
    "print(salaries.head())"
   ]
  },
  {
   "cell_type": "code",
   "execution_count": 3,
   "metadata": {},
   "outputs": [
    {
     "data": {
      "text/plain": [
       "(array([3.66954634, 3.67913599, 3.64179825, 3.66035959, 3.6701172 ,\n",
       "        3.65194726, 3.67958464, 3.67209018, 3.6621054 , 3.66583017]),\n",
       " array([2.36084479, 2.36225032, 2.36291309, 2.35968491, 2.36077874,\n",
       "        2.36007341, 2.36152599, 2.35813635, 2.3610553 , 2.36280481]))"
      ]
     },
     "execution_count": 3,
     "metadata": {},
     "output_type": "execute_result"
    }
   ],
   "source": [
    "from scipy.stats import boxcox \n",
    "import numpy as np\n",
    "\n",
    "theoretical_salaries, _ = boxcox(theoretical_salaries)\n",
    "applied_salaries, _ = boxcox(applied_salaries)\n",
    "\n",
    "theoretical_salaries[:10], applied_salaries[:10]"
   ]
  },
  {
   "cell_type": "code",
   "execution_count": 4,
   "metadata": {},
   "outputs": [
    {
     "name": "stdout",
     "output_type": "stream",
     "text": [
      "For theoretical salaries: (0.9891412860397887, 0.1021670726374912)\n",
      "For applied salaries: (0.9850858810631471, 0.05130286095942916)\n"
     ]
    }
   ],
   "source": [
    "from scipy.stats import shapiro\n",
    "\n",
    "statistic, p_value = shapiro(theoretical_salaries)\n",
    "print(f\"For theoretical salaries: {statistic, p_value}\")\n",
    "statistic, p_value = shapiro(applied_salaries)\n",
    "print(f\"For applied salaries: {statistic, p_value}\")"
   ]
  },
  {
   "cell_type": "code",
   "execution_count": 5,
   "metadata": {},
   "outputs": [
    {
     "name": "stdout",
     "output_type": "stream",
     "text": [
      "Do not reject null hypotesis\n",
      "TtestResult(statistic=1462.3367783497624, pvalue=1.0, df=395.0)\n"
     ]
    }
   ],
   "source": [
    "from scipy.stats import ttest_ind\n",
    "\n",
    "result = ttest_ind(theoretical_salaries, applied_salaries, alternative=\"less\")\n",
    "alpha = 0.05\n",
    "\n",
    "if result.pvalue < alpha:\n",
    "    print(\"Reject NULL hypothesis\")\n",
    "else:\n",
    "    print(\"Do not reject null hypotesis\")\n",
    "print(result)"
   ]
  },
  {
   "cell_type": "code",
   "execution_count": 6,
   "metadata": {},
   "outputs": [
    {
     "name": "stdout",
     "output_type": "stream",
     "text": [
      "Mann-Whitney U Test statistic: 39096.0\n",
      "p-value: 1.0\n",
      "Fail to reject the null hypothesis: No significant difference.\n"
     ]
    }
   ],
   "source": [
    "from scipy.stats import mannwhitneyu\n",
    "\n",
    "# Mann-Whitney U test\n",
    "u_statistic, p_value = mannwhitneyu(theoretical_salaries, applied_salaries, alternative='less')\n",
    "\n",
    "print(\"Mann-Whitney U Test statistic:\", u_statistic)\n",
    "print(\"p-value:\", p_value)\n",
    "\n",
    "if p_value < 0.05:\n",
    "    print(\"Reject the null hypothesis: Theoretical salaries are significantly lower.\")\n",
    "else:\n",
    "    print(\"Fail to reject the null hypothesis: No significant difference.\")\n"
   ]
  },
  {
   "cell_type": "code",
   "execution_count": 7,
   "metadata": {},
   "outputs": [
    {
     "name": "stdout",
     "output_type": "stream",
     "text": [
      "Cohen's d: 0.3164765707641339\n",
      "The effect size (Cohen's d) is 0.32, which is considered a medium effect.\n"
     ]
    }
   ],
   "source": [
    "import pingouin as pg\n",
    "\n",
    "cohen_d = pg.compute_effsize(salaries[salaries['discipline'] == 'B']['salary'], salaries[salaries['discipline'] == 'A']['salary'], \n",
    "                             eftype='cohen')\n",
    "print(\"Cohen's d:\", cohen_d)\n",
    "\n",
    "if abs(cohen_d) < 0.2:\n",
    "    effect_size = \"small\"\n",
    "elif abs(cohen_d) < 0.5:\n",
    "    effect_size = \"medium\"\n",
    "else:\n",
    "    effect_size = \"large\"\n",
    "\n",
    "print(f\"The effect size (Cohen's d) is {cohen_d:.2f}, which is considered a {effect_size} effect.\")"
   ]
  },
  {
   "cell_type": "markdown",
   "metadata": {},
   "source": [
    "# Task 2: Verify the Hypothesis\n",
    "\n",
    "Objective: Verify if the proportion of higher rank professors (associate and full professors) is significantly different between male and female scientists."
   ]
  },
  {
   "cell_type": "code",
   "execution_count": 8,
   "metadata": {},
   "outputs": [
    {
     "data": {
      "text/html": [
       "<div>\n",
       "<style scoped>\n",
       "    .dataframe tbody tr th:only-of-type {\n",
       "        vertical-align: middle;\n",
       "    }\n",
       "\n",
       "    .dataframe tbody tr th {\n",
       "        vertical-align: top;\n",
       "    }\n",
       "\n",
       "    .dataframe thead th {\n",
       "        text-align: right;\n",
       "    }\n",
       "</style>\n",
       "<table border=\"1\" class=\"dataframe\">\n",
       "  <thead>\n",
       "    <tr style=\"text-align: right;\">\n",
       "      <th></th>\n",
       "      <th>rownames</th>\n",
       "      <th>rank</th>\n",
       "      <th>discipline</th>\n",
       "      <th>yrs.since.phd</th>\n",
       "      <th>yrs.service</th>\n",
       "      <th>sex</th>\n",
       "      <th>salary</th>\n",
       "    </tr>\n",
       "  </thead>\n",
       "  <tbody>\n",
       "    <tr>\n",
       "      <th>0</th>\n",
       "      <td>1</td>\n",
       "      <td>Prof</td>\n",
       "      <td>B</td>\n",
       "      <td>19</td>\n",
       "      <td>18</td>\n",
       "      <td>Male</td>\n",
       "      <td>139750</td>\n",
       "    </tr>\n",
       "    <tr>\n",
       "      <th>1</th>\n",
       "      <td>2</td>\n",
       "      <td>Prof</td>\n",
       "      <td>B</td>\n",
       "      <td>20</td>\n",
       "      <td>16</td>\n",
       "      <td>Male</td>\n",
       "      <td>173200</td>\n",
       "    </tr>\n",
       "    <tr>\n",
       "      <th>2</th>\n",
       "      <td>3</td>\n",
       "      <td>AsstProf</td>\n",
       "      <td>B</td>\n",
       "      <td>4</td>\n",
       "      <td>3</td>\n",
       "      <td>Male</td>\n",
       "      <td>79750</td>\n",
       "    </tr>\n",
       "    <tr>\n",
       "      <th>3</th>\n",
       "      <td>4</td>\n",
       "      <td>Prof</td>\n",
       "      <td>B</td>\n",
       "      <td>45</td>\n",
       "      <td>39</td>\n",
       "      <td>Male</td>\n",
       "      <td>115000</td>\n",
       "    </tr>\n",
       "    <tr>\n",
       "      <th>4</th>\n",
       "      <td>5</td>\n",
       "      <td>Prof</td>\n",
       "      <td>B</td>\n",
       "      <td>40</td>\n",
       "      <td>41</td>\n",
       "      <td>Male</td>\n",
       "      <td>141500</td>\n",
       "    </tr>\n",
       "  </tbody>\n",
       "</table>\n",
       "</div>"
      ],
      "text/plain": [
       "   rownames      rank discipline  yrs.since.phd  yrs.service   sex  salary\n",
       "0         1      Prof          B             19           18  Male  139750\n",
       "1         2      Prof          B             20           16  Male  173200\n",
       "2         3  AsstProf          B              4            3  Male   79750\n",
       "3         4      Prof          B             45           39  Male  115000\n",
       "4         5      Prof          B             40           41  Male  141500"
      ]
     },
     "execution_count": 8,
     "metadata": {},
     "output_type": "execute_result"
    }
   ],
   "source": [
    "salaries.head()"
   ]
  },
  {
   "cell_type": "code",
   "execution_count": 9,
   "metadata": {},
   "outputs": [
    {
     "data": {
      "text/plain": [
       "array(['Male', 'Female'], dtype=object)"
      ]
     },
     "execution_count": 9,
     "metadata": {},
     "output_type": "execute_result"
    }
   ],
   "source": [
    "salaries[\"sex\"].unique()"
   ]
  },
  {
   "cell_type": "code",
   "execution_count": 10,
   "metadata": {},
   "outputs": [
    {
     "data": {
      "text/plain": [
       "(0     139750\n",
       " 1     173200\n",
       " 3     115000\n",
       " 4     141500\n",
       " 5      97000\n",
       " 6     175000\n",
       " 7     147765\n",
       " 8     119250\n",
       " 10    119800\n",
       " 14    104800\n",
       " Name: salary, dtype: int64,\n",
       " 9      129000\n",
       " 19     137000\n",
       " 24      74830\n",
       " 47     151768\n",
       " 48     140096\n",
       " 63     103613\n",
       " 68     111512\n",
       " 84     122960\n",
       " 103    127512\n",
       " 114    105000\n",
       " Name: salary, dtype: int64)"
      ]
     },
     "execution_count": 10,
     "metadata": {},
     "output_type": "execute_result"
    }
   ],
   "source": [
    "high_rank = salaries[(salaries[\"rank\"] == \"Prof\") | (salaries[\"rank\"] == \"AssocProf\")]\n",
    "high_rank_male = high_rank[high_rank[\"sex\"] == \"Male\"][\"salary\"]\n",
    "high_rank_female = high_rank[high_rank[\"sex\"] == \"Female\"][\"salary\"]\n",
    "\n",
    "high_rank_male[:10], high_rank_female[:10]"
   ]
  },
  {
   "cell_type": "code",
   "execution_count": 11,
   "metadata": {},
   "outputs": [],
   "source": [
    "high_rank_male, _ = boxcox(high_rank_male)\n",
    "high_rank_female, _ = boxcox(high_rank_female)"
   ]
  },
  {
   "cell_type": "code",
   "execution_count": 12,
   "metadata": {},
   "outputs": [
    {
     "name": "stdout",
     "output_type": "stream",
     "text": [
      "For male salaries: (0.9948767310140005, 0.41316152690894925)\n",
      "For female salaries: (0.9742435305240527, 0.6975578990422144)\n"
     ]
    }
   ],
   "source": [
    "statistic, p_value = shapiro(high_rank_male)\n",
    "print(f\"For male salaries: {statistic, p_value}\")\n",
    "statistic, p_value = shapiro(high_rank_female)\n",
    "print(f\"For female salaries: {statistic, p_value}\")"
   ]
  },
  {
   "cell_type": "code",
   "execution_count": 13,
   "metadata": {},
   "outputs": [
    {
     "name": "stdout",
     "output_type": "stream",
     "text": [
      "Reject NULL hypothesis\n",
      "TtestResult(statistic=-86.59828128940755, pvalue=5.0605629281314653e-228, df=328.0)\n"
     ]
    }
   ],
   "source": [
    "result = ttest_ind(high_rank_male, high_rank_female)\n",
    "alpha = 0.05\n",
    "\n",
    "if result.pvalue < alpha:\n",
    "    print(\"Reject NULL hypothesis\")\n",
    "else:\n",
    "    print(\"Do not reject null hypotesis\")\n",
    "print(result)"
   ]
  },
  {
   "cell_type": "markdown",
   "metadata": {},
   "source": [
    "# Task 3: Verify the Hypothesis\n",
    "\n",
    "Objective: Verify if the salaries of professors are significantly different based on rank, gender, and discipline, and check for interactions between these groups."
   ]
  },
  {
   "cell_type": "code",
   "execution_count": 19,
   "metadata": {},
   "outputs": [
    {
     "data": {
      "text/html": [
       "<div>\n",
       "<style scoped>\n",
       "    .dataframe tbody tr th:only-of-type {\n",
       "        vertical-align: middle;\n",
       "    }\n",
       "\n",
       "    .dataframe tbody tr th {\n",
       "        vertical-align: top;\n",
       "    }\n",
       "\n",
       "    .dataframe thead th {\n",
       "        text-align: right;\n",
       "    }\n",
       "</style>\n",
       "<table border=\"1\" class=\"dataframe\">\n",
       "  <thead>\n",
       "    <tr style=\"text-align: right;\">\n",
       "      <th></th>\n",
       "      <th>rownames</th>\n",
       "      <th>rank</th>\n",
       "      <th>discipline</th>\n",
       "      <th>yrs.since.phd</th>\n",
       "      <th>yrs.service</th>\n",
       "      <th>sex</th>\n",
       "      <th>salary</th>\n",
       "    </tr>\n",
       "  </thead>\n",
       "  <tbody>\n",
       "    <tr>\n",
       "      <th>0</th>\n",
       "      <td>1</td>\n",
       "      <td>Prof</td>\n",
       "      <td>B</td>\n",
       "      <td>19</td>\n",
       "      <td>18</td>\n",
       "      <td>Male</td>\n",
       "      <td>139750</td>\n",
       "    </tr>\n",
       "    <tr>\n",
       "      <th>1</th>\n",
       "      <td>2</td>\n",
       "      <td>Prof</td>\n",
       "      <td>B</td>\n",
       "      <td>20</td>\n",
       "      <td>16</td>\n",
       "      <td>Male</td>\n",
       "      <td>173200</td>\n",
       "    </tr>\n",
       "    <tr>\n",
       "      <th>2</th>\n",
       "      <td>3</td>\n",
       "      <td>AsstProf</td>\n",
       "      <td>B</td>\n",
       "      <td>4</td>\n",
       "      <td>3</td>\n",
       "      <td>Male</td>\n",
       "      <td>79750</td>\n",
       "    </tr>\n",
       "    <tr>\n",
       "      <th>3</th>\n",
       "      <td>4</td>\n",
       "      <td>Prof</td>\n",
       "      <td>B</td>\n",
       "      <td>45</td>\n",
       "      <td>39</td>\n",
       "      <td>Male</td>\n",
       "      <td>115000</td>\n",
       "    </tr>\n",
       "    <tr>\n",
       "      <th>4</th>\n",
       "      <td>5</td>\n",
       "      <td>Prof</td>\n",
       "      <td>B</td>\n",
       "      <td>40</td>\n",
       "      <td>41</td>\n",
       "      <td>Male</td>\n",
       "      <td>141500</td>\n",
       "    </tr>\n",
       "  </tbody>\n",
       "</table>\n",
       "</div>"
      ],
      "text/plain": [
       "   rownames      rank discipline  yrs.since.phd  yrs.service   sex  salary\n",
       "0         1      Prof          B             19           18  Male  139750\n",
       "1         2      Prof          B             20           16  Male  173200\n",
       "2         3  AsstProf          B              4            3  Male   79750\n",
       "3         4      Prof          B             45           39  Male  115000\n",
       "4         5      Prof          B             40           41  Male  141500"
      ]
     },
     "execution_count": 19,
     "metadata": {},
     "output_type": "execute_result"
    }
   ],
   "source": [
    "salaries.head()"
   ]
  },
  {
   "cell_type": "code",
   "execution_count": 28,
   "metadata": {},
   "outputs": [
    {
     "name": "stdout",
     "output_type": "stream",
     "text": [
      "         rank     sex discipline  W-statistic   p-value\n",
      "0   AssocProf  Female          A     0.862555  0.269460\n",
      "1   AssocProf  Female          B     0.634562  0.001173\n",
      "2   AssocProf    Male          A     0.878440  0.011282\n",
      "3   AssocProf    Male          B     0.966780  0.415597\n",
      "4    AsstProf  Female          A     0.869869  0.225684\n",
      "5    AsstProf  Female          B     0.889298  0.353583\n",
      "6    AsstProf    Male          A     0.940885  0.300046\n",
      "7    AsstProf    Male          B     0.941189  0.045788\n",
      "8        Prof  Female          A     0.933578  0.549195\n",
      "9        Prof  Female          B     0.973714  0.922980\n",
      "10       Prof    Male          A     0.952176  0.000259\n",
      "11       Prof    Male          B     0.978489  0.043536\n"
     ]
    },
    {
     "name": "stderr",
     "output_type": "stream",
     "text": [
      "C:\\Users\\User\\AppData\\Local\\Temp\\ipykernel_5304\\2151538707.py:5: DeprecationWarning: DataFrameGroupBy.apply operated on the grouping columns. This behavior is deprecated, and in a future version of pandas the grouping columns will be excluded from the operation. Either pass `include_groups=False` to exclude the groupings or explicitly select the grouping columns after groupby to silence this warning.\n",
      "  shapiro_results = salaries.groupby(['rank', 'sex', \"discipline\"]).apply(shapiro_test).reset_index()\n"
     ]
    }
   ],
   "source": [
    "def shapiro_test(group):\n",
    "    stat, p_value = shapiro(group['salary'].dropna())\n",
    "    return pd.Series({'W-statistic': stat, 'p-value': p_value})\n",
    "\n",
    "shapiro_results = salaries.groupby(['rank', 'sex', \"discipline\"]).apply(shapiro_test).reset_index()\n",
    "\n",
    "# Display the results\n",
    "print(shapiro_results)"
   ]
  },
  {
   "cell_type": "code",
   "execution_count": 30,
   "metadata": {},
   "outputs": [
    {
     "name": "stdout",
     "output_type": "stream",
     "text": [
      "Levene's test statistic: 17.276667237021307\n",
      "p-value: 1.864247358728361e-15\n"
     ]
    }
   ],
   "source": [
    "from scipy.stats import levene\n",
    "\n",
    "# Create a combined factor for gender and Diet\n",
    "salaries['rank_sex'] = salaries['rank'] + '_' + salaries['sex']\n",
    "\n",
    "# Perform Levene's test\n",
    "groups = [group['salary'].dropna().values for name, group in salaries.groupby('rank_sex')]\n",
    "stat, p_value = levene(*groups)\n",
    "\n",
    "# Display the results\n",
    "print(f\"Levene's test statistic: {stat}\")\n",
    "print(f\"p-value: {p_value}\")"
   ]
  },
  {
   "cell_type": "code",
   "execution_count": 33,
   "metadata": {},
   "outputs": [
    {
     "name": "stdout",
     "output_type": "stream",
     "text": [
      "                 Generalized Linear Model Regression Results                  \n",
      "==============================================================================\n",
      "Dep. Variable:                 salary   No. Observations:                  397\n",
      "Model:                            GLM   Df Residuals:                      385\n",
      "Model Family:                Gaussian   Df Model:                           11\n",
      "Link Function:               Identity   Scale:                      5.1856e+08\n",
      "Method:                          IRLS   Log-Likelihood:                -4540.4\n",
      "Date:                Sun, 26 Jan 2025   Deviance:                   1.9965e+11\n",
      "Time:                        11:03:50   Pearson chi2:                 2.00e+11\n",
      "No. Iterations:                     3   Pseudo R-squ. (CS):             0.5486\n",
      "Covariance Type:            nonrobust                                         \n",
      "================================================================================================================\n",
      "                                                   coef    std err          z      P>|z|      [0.025      0.975]\n",
      "----------------------------------------------------------------------------------------------------------------\n",
      "Intercept                                     7.213e+04   1.14e+04      6.335      0.000    4.98e+04    9.44e+04\n",
      "rank[T.AsstProf]                               804.8333   1.47e+04      0.055      0.956    -2.8e+04    2.96e+04\n",
      "rank[T.Prof]                                   3.75e+04   1.39e+04      2.689      0.007    1.02e+04    6.48e+04\n",
      "sex[T.Male]                                   1.292e+04   1.24e+04      1.044      0.297   -1.13e+04    3.72e+04\n",
      "discipline[T.B]                               2.731e+04   1.47e+04      1.858      0.063   -1502.824    5.61e+04\n",
      "rank[T.AsstProf]:sex[T.Male]                 -1.158e+04   1.64e+04     -0.707      0.480   -4.37e+04    2.05e+04\n",
      "rank[T.Prof]:sex[T.Male]                     -1932.9785   1.49e+04     -0.130      0.897   -3.12e+04    2.73e+04\n",
      "rank[T.AsstProf]:discipline[T.B]             -1.605e+04   2.02e+04     -0.796      0.426   -5.56e+04    2.35e+04\n",
      "rank[T.Prof]:discipline[T.B]                 -5102.8417   1.82e+04     -0.280      0.780   -4.09e+04    3.06e+04\n",
      "sex[T.Male]:discipline[T.B]                  -1.073e+04    1.6e+04     -0.671      0.502   -4.21e+04    2.06e+04\n",
      "rank[T.AsstProf]:sex[T.Male]:discipline[T.B]  9855.5002   2.21e+04      0.446      0.656   -3.35e+04    5.32e+04\n",
      "rank[T.Prof]:sex[T.Male]:discipline[T.B]      1429.2739   1.95e+04      0.073      0.942   -3.68e+04    3.97e+04\n",
      "================================================================================================================\n"
     ]
    }
   ],
   "source": [
    "import statsmodels.api as sm\n",
    "from statsmodels.formula.api import glm\n",
    "\n",
    "model = glm('salary ~ rank * sex * discipline', data=salaries, family=sm.families.Gaussian()).fit()\n",
    "\n",
    "# View the summary\n",
    "print(model.summary())"
   ]
  },
  {
   "cell_type": "code",
   "execution_count": 24,
   "metadata": {},
   "outputs": [
    {
     "name": "stdout",
     "output_type": "stream",
     "text": [
      "                        df        sum_sq       mean_sq           F  \\\n",
      "rank                   2.0  1.432318e+11  7.161588e+10  138.104573   \n",
      "sex                    1.0  8.408166e+08  8.408166e+08    1.621437   \n",
      "discipline             1.0  1.828318e+10  1.828318e+10   35.257420   \n",
      "rank:sex               2.0  2.351988e+08  1.175994e+08    0.226780   \n",
      "rank:discipline        2.0  4.686632e+08  2.343316e+08    0.451887   \n",
      "sex:discipline         1.0  4.619741e+08  4.619741e+08    0.890874   \n",
      "rank:sex:discipline    2.0  1.323930e+08  6.619650e+07    0.127654   \n",
      "Residual             385.0  1.996466e+11  5.185627e+08         NaN   \n",
      "\n",
      "                           PR(>F)  \n",
      "rank                 6.108879e-46  \n",
      "sex                  2.036599e-01  \n",
      "discipline           6.457190e-09  \n",
      "rank:sex             7.972029e-01  \n",
      "rank:discipline      6.367634e-01  \n",
      "sex:discipline       3.458325e-01  \n",
      "rank:sex:discipline  8.801953e-01  \n",
      "Residual                      NaN  \n"
     ]
    }
   ],
   "source": [
    "from statsmodels.formula.api import ols\n",
    "from statsmodels.stats.anova import anova_lm\n",
    "\n",
    "salaries_copy = salaries.copy()\n",
    "salaries_copy[\"rank\"] = salaries_copy[\"rank\"].astype(\"category\")\n",
    "salaries_copy[\"sex\"] = salaries_copy[\"sex\"].astype(\"category\")\n",
    "salaries_copy[\"discipline\"] = salaries_copy[\"discipline\"].astype(\"category\")\n",
    "\n",
    "model = ols('salary ~ rank * sex * discipline', data=salaries).fit()\n",
    "anova_table = anova_lm(model)\n",
    "\n",
    "print(anova_table)"
   ]
  },
  {
   "cell_type": "markdown",
   "metadata": {},
   "source": [
    "# Task 4: Verify the Hypothesis\n",
    "\n",
    "Objective: Verify if credit amounts (in DM) are significantly different for people applying with different job, personal status, sex, or age."
   ]
  },
  {
   "cell_type": "code",
   "execution_count": 26,
   "metadata": {},
   "outputs": [
    {
     "data": {
      "text/html": [
       "<div>\n",
       "<style scoped>\n",
       "    .dataframe tbody tr th:only-of-type {\n",
       "        vertical-align: middle;\n",
       "    }\n",
       "\n",
       "    .dataframe tbody tr th {\n",
       "        vertical-align: top;\n",
       "    }\n",
       "\n",
       "    .dataframe thead th {\n",
       "        text-align: right;\n",
       "    }\n",
       "</style>\n",
       "<table border=\"1\" class=\"dataframe\">\n",
       "  <thead>\n",
       "    <tr style=\"text-align: right;\">\n",
       "      <th></th>\n",
       "      <th>status</th>\n",
       "      <th>duration</th>\n",
       "      <th>credit_history</th>\n",
       "      <th>purpose</th>\n",
       "      <th>amount</th>\n",
       "      <th>savings</th>\n",
       "      <th>employment_duration</th>\n",
       "      <th>installment_rate</th>\n",
       "      <th>personal_status_sex</th>\n",
       "      <th>other_debtors</th>\n",
       "      <th>...</th>\n",
       "      <th>property</th>\n",
       "      <th>age</th>\n",
       "      <th>other_installment_plans</th>\n",
       "      <th>housing</th>\n",
       "      <th>number_credits</th>\n",
       "      <th>job</th>\n",
       "      <th>people_liable</th>\n",
       "      <th>telephone</th>\n",
       "      <th>foreign_worker</th>\n",
       "      <th>credit_risk</th>\n",
       "    </tr>\n",
       "  </thead>\n",
       "  <tbody>\n",
       "    <tr>\n",
       "      <th>0</th>\n",
       "      <td>... &lt; 100 DM</td>\n",
       "      <td>6</td>\n",
       "      <td>critical account/other credits existing</td>\n",
       "      <td>domestic appliances</td>\n",
       "      <td>1169</td>\n",
       "      <td>unknown/no savings account</td>\n",
       "      <td>... &gt;= 7 years</td>\n",
       "      <td>4</td>\n",
       "      <td>male : single</td>\n",
       "      <td>none</td>\n",
       "      <td>...</td>\n",
       "      <td>real estate</td>\n",
       "      <td>67</td>\n",
       "      <td>none</td>\n",
       "      <td>own</td>\n",
       "      <td>2</td>\n",
       "      <td>skilled employee/official</td>\n",
       "      <td>1</td>\n",
       "      <td>yes</td>\n",
       "      <td>yes</td>\n",
       "      <td>1</td>\n",
       "    </tr>\n",
       "    <tr>\n",
       "      <th>1</th>\n",
       "      <td>0 &lt;= ... &lt; 200 DM</td>\n",
       "      <td>48</td>\n",
       "      <td>existing credits paid back duly till now</td>\n",
       "      <td>domestic appliances</td>\n",
       "      <td>5951</td>\n",
       "      <td>... &lt; 100 DM</td>\n",
       "      <td>1 &lt;= ... &lt; 4 years</td>\n",
       "      <td>2</td>\n",
       "      <td>female : divorced/separated/married</td>\n",
       "      <td>none</td>\n",
       "      <td>...</td>\n",
       "      <td>real estate</td>\n",
       "      <td>22</td>\n",
       "      <td>none</td>\n",
       "      <td>own</td>\n",
       "      <td>1</td>\n",
       "      <td>skilled employee/official</td>\n",
       "      <td>1</td>\n",
       "      <td>no</td>\n",
       "      <td>yes</td>\n",
       "      <td>0</td>\n",
       "    </tr>\n",
       "    <tr>\n",
       "      <th>2</th>\n",
       "      <td>no checking account</td>\n",
       "      <td>12</td>\n",
       "      <td>critical account/other credits existing</td>\n",
       "      <td>retraining</td>\n",
       "      <td>2096</td>\n",
       "      <td>... &lt; 100 DM</td>\n",
       "      <td>4 &lt;= ... &lt; 7 years</td>\n",
       "      <td>2</td>\n",
       "      <td>male : single</td>\n",
       "      <td>none</td>\n",
       "      <td>...</td>\n",
       "      <td>real estate</td>\n",
       "      <td>49</td>\n",
       "      <td>none</td>\n",
       "      <td>own</td>\n",
       "      <td>1</td>\n",
       "      <td>unskilled - resident</td>\n",
       "      <td>2</td>\n",
       "      <td>no</td>\n",
       "      <td>yes</td>\n",
       "      <td>1</td>\n",
       "    </tr>\n",
       "    <tr>\n",
       "      <th>3</th>\n",
       "      <td>... &lt; 100 DM</td>\n",
       "      <td>42</td>\n",
       "      <td>existing credits paid back duly till now</td>\n",
       "      <td>radio/television</td>\n",
       "      <td>7882</td>\n",
       "      <td>... &lt; 100 DM</td>\n",
       "      <td>4 &lt;= ... &lt; 7 years</td>\n",
       "      <td>2</td>\n",
       "      <td>male : single</td>\n",
       "      <td>guarantor</td>\n",
       "      <td>...</td>\n",
       "      <td>building society savings agreement/life insurance</td>\n",
       "      <td>45</td>\n",
       "      <td>none</td>\n",
       "      <td>for free</td>\n",
       "      <td>1</td>\n",
       "      <td>skilled employee/official</td>\n",
       "      <td>2</td>\n",
       "      <td>no</td>\n",
       "      <td>yes</td>\n",
       "      <td>1</td>\n",
       "    </tr>\n",
       "    <tr>\n",
       "      <th>4</th>\n",
       "      <td>... &lt; 100 DM</td>\n",
       "      <td>24</td>\n",
       "      <td>delay in paying off in the past</td>\n",
       "      <td>car (new)</td>\n",
       "      <td>4870</td>\n",
       "      <td>... &lt; 100 DM</td>\n",
       "      <td>1 &lt;= ... &lt; 4 years</td>\n",
       "      <td>3</td>\n",
       "      <td>male : single</td>\n",
       "      <td>none</td>\n",
       "      <td>...</td>\n",
       "      <td>unknown/no property</td>\n",
       "      <td>53</td>\n",
       "      <td>none</td>\n",
       "      <td>for free</td>\n",
       "      <td>2</td>\n",
       "      <td>skilled employee/official</td>\n",
       "      <td>2</td>\n",
       "      <td>no</td>\n",
       "      <td>yes</td>\n",
       "      <td>0</td>\n",
       "    </tr>\n",
       "  </tbody>\n",
       "</table>\n",
       "<p>5 rows × 21 columns</p>\n",
       "</div>"
      ],
      "text/plain": [
       "                status  duration                            credit_history  \\\n",
       "0         ... < 100 DM         6   critical account/other credits existing   \n",
       "1    0 <= ... < 200 DM        48  existing credits paid back duly till now   \n",
       "2  no checking account        12   critical account/other credits existing   \n",
       "3         ... < 100 DM        42  existing credits paid back duly till now   \n",
       "4         ... < 100 DM        24           delay in paying off in the past   \n",
       "\n",
       "               purpose  amount                     savings  \\\n",
       "0  domestic appliances    1169  unknown/no savings account   \n",
       "1  domestic appliances    5951                ... < 100 DM   \n",
       "2           retraining    2096                ... < 100 DM   \n",
       "3     radio/television    7882                ... < 100 DM   \n",
       "4            car (new)    4870                ... < 100 DM   \n",
       "\n",
       "  employment_duration  installment_rate                  personal_status_sex  \\\n",
       "0      ... >= 7 years                 4                        male : single   \n",
       "1  1 <= ... < 4 years                 2  female : divorced/separated/married   \n",
       "2  4 <= ... < 7 years                 2                        male : single   \n",
       "3  4 <= ... < 7 years                 2                        male : single   \n",
       "4  1 <= ... < 4 years                 3                        male : single   \n",
       "\n",
       "  other_debtors  ...                                           property age  \\\n",
       "0          none  ...                                        real estate  67   \n",
       "1          none  ...                                        real estate  22   \n",
       "2          none  ...                                        real estate  49   \n",
       "3     guarantor  ...  building society savings agreement/life insurance  45   \n",
       "4          none  ...                                unknown/no property  53   \n",
       "\n",
       "   other_installment_plans   housing number_credits  \\\n",
       "0                     none       own              2   \n",
       "1                     none       own              1   \n",
       "2                     none       own              1   \n",
       "3                     none  for free              1   \n",
       "4                     none  for free              2   \n",
       "\n",
       "                         job people_liable  telephone foreign_worker  \\\n",
       "0  skilled employee/official             1        yes            yes   \n",
       "1  skilled employee/official             1         no            yes   \n",
       "2       unskilled - resident             2         no            yes   \n",
       "3  skilled employee/official             2         no            yes   \n",
       "4  skilled employee/official             2         no            yes   \n",
       "\n",
       "  credit_risk  \n",
       "0           1  \n",
       "1           0  \n",
       "2           1  \n",
       "3           1  \n",
       "4           0  \n",
       "\n",
       "[5 rows x 21 columns]"
      ]
     },
     "execution_count": 26,
     "metadata": {},
     "output_type": "execute_result"
    }
   ],
   "source": [
    "import pandas as pd\n",
    "\n",
    "# Load the GermanCredit dataset from GitHub\n",
    "url = \"https://raw.githubusercontent.com/selva86/datasets/master/GermanCredit.csv\"\n",
    "germancredit = pd.read_csv(url)\n",
    "\n",
    "# Display the first few rows of the dataset\n",
    "germancredit.head()"
   ]
  },
  {
   "cell_type": "code",
   "execution_count": 27,
   "metadata": {},
   "outputs": [
    {
     "data": {
      "text/plain": [
       "Index(['status', 'duration', 'credit_history', 'purpose', 'amount', 'savings',\n",
       "       'employment_duration', 'installment_rate', 'personal_status_sex',\n",
       "       'other_debtors', 'present_residence', 'property', 'age',\n",
       "       'other_installment_plans', 'housing', 'number_credits', 'job',\n",
       "       'people_liable', 'telephone', 'foreign_worker', 'credit_risk'],\n",
       "      dtype='object')"
      ]
     },
     "execution_count": 27,
     "metadata": {},
     "output_type": "execute_result"
    }
   ],
   "source": [
    "germancredit.columns"
   ]
  },
  {
   "cell_type": "code",
   "execution_count": null,
   "metadata": {},
   "outputs": [],
   "source": []
  },
  {
   "cell_type": "markdown",
   "metadata": {},
   "source": [
    "# Task 5: Evaluate Interaction Between Group and Time\n",
    "\n",
    "Description: \n",
    "\n",
    "The data provide the anxiety score, measured at three time points, of three groups of individuals practicing physical exercises at different levels (grp1: basal, grp2: moderate and grp3: high)\n",
    "\n",
    "Objective: Evaluate if there is an interaction between group and time in explaining anxiety scores."
   ]
  },
  {
   "cell_type": "code",
   "execution_count": 13,
   "metadata": {},
   "outputs": [
    {
     "name": "stdout",
     "output_type": "stream",
     "text": [
      "   Unnamed: 0  id group    t1    t2    t3\n",
      "0           1   1  grp1  14.1  14.4  14.1\n",
      "1           2   2  grp1  14.5  14.6  14.3\n",
      "2           3   3  grp1  15.7  15.2  14.9\n",
      "3           4   4  grp1  16.0  15.5  15.3\n",
      "4           5   5  grp1  16.5  15.8  15.7\n"
     ]
    }
   ],
   "source": [
    "import pandas as pd\n",
    "\n",
    "# Load the anxiety dataset from GitHub\n",
    "url = \"https://raw.githubusercontent.com/kflisikowski/ds/master/anxiety.csv\"\n",
    "anxiety_data = pd.read_csv(url)\n",
    "\n",
    "# Display the first few rows of the dataset\n",
    "print(anxiety_data.head())"
   ]
  },
  {
   "cell_type": "code",
   "execution_count": null,
   "metadata": {},
   "outputs": [],
   "source": [
    "# your solution"
   ]
  },
  {
   "cell_type": "markdown",
   "metadata": {},
   "source": [
    "# Task 6: Evaluate the Goodness of Fit\n",
    "\n",
    "Objective: Use the goodness of fit test to determine whether the distribution of credit amounts for male customers matches that of female customers."
   ]
  },
  {
   "cell_type": "code",
   "execution_count": 14,
   "metadata": {},
   "outputs": [
    {
     "name": "stdout",
     "output_type": "stream",
     "text": [
      "                status  duration                            credit_history  \\\n",
      "0         ... < 100 DM         6   critical account/other credits existing   \n",
      "1    0 <= ... < 200 DM        48  existing credits paid back duly till now   \n",
      "2  no checking account        12   critical account/other credits existing   \n",
      "3         ... < 100 DM        42  existing credits paid back duly till now   \n",
      "4         ... < 100 DM        24           delay in paying off in the past   \n",
      "\n",
      "               purpose  amount                     savings  \\\n",
      "0  domestic appliances    1169  unknown/no savings account   \n",
      "1  domestic appliances    5951                ... < 100 DM   \n",
      "2           retraining    2096                ... < 100 DM   \n",
      "3     radio/television    7882                ... < 100 DM   \n",
      "4            car (new)    4870                ... < 100 DM   \n",
      "\n",
      "  employment_duration  installment_rate                  personal_status_sex  \\\n",
      "0      ... >= 7 years                 4                        male : single   \n",
      "1  1 <= ... < 4 years                 2  female : divorced/separated/married   \n",
      "2  4 <= ... < 7 years                 2                        male : single   \n",
      "3  4 <= ... < 7 years                 2                        male : single   \n",
      "4  1 <= ... < 4 years                 3                        male : single   \n",
      "\n",
      "  other_debtors  ...                                           property age  \\\n",
      "0          none  ...                                        real estate  67   \n",
      "1          none  ...                                        real estate  22   \n",
      "2          none  ...                                        real estate  49   \n",
      "3     guarantor  ...  building society savings agreement/life insurance  45   \n",
      "4          none  ...                                unknown/no property  53   \n",
      "\n",
      "   other_installment_plans   housing number_credits  \\\n",
      "0                     none       own              2   \n",
      "1                     none       own              1   \n",
      "2                     none       own              1   \n",
      "3                     none  for free              1   \n",
      "4                     none  for free              2   \n",
      "\n",
      "                         job people_liable  telephone foreign_worker  \\\n",
      "0  skilled employee/official             1        yes            yes   \n",
      "1  skilled employee/official             1         no            yes   \n",
      "2       unskilled - resident             2         no            yes   \n",
      "3  skilled employee/official             2         no            yes   \n",
      "4  skilled employee/official             2         no            yes   \n",
      "\n",
      "  credit_risk  \n",
      "0           1  \n",
      "1           0  \n",
      "2           1  \n",
      "3           1  \n",
      "4           0  \n",
      "\n",
      "[5 rows x 21 columns]\n"
     ]
    }
   ],
   "source": [
    "import pandas as pd\n",
    "\n",
    "# Load the German Credit dataset from GitHub\n",
    "url = \"https://raw.githubusercontent.com/selva86/datasets/master/GermanCredit.csv\"\n",
    "germancredit = pd.read_csv(url)\n",
    "\n",
    "# Display the first few rows of the dataset\n",
    "print(germancredit.head())"
   ]
  },
  {
   "cell_type": "code",
   "execution_count": null,
   "metadata": {},
   "outputs": [],
   "source": [
    "# your solution"
   ]
  },
  {
   "cell_type": "markdown",
   "metadata": {},
   "source": [
    "# Task 7: Evaluate the Change in Asthma Symptoms Over Time\n",
    "\n",
    "Objective: determine if there is a significant change in asthma symptoms reported by participants at two different time points."
   ]
  },
  {
   "cell_type": "code",
   "execution_count": 2,
   "metadata": {},
   "outputs": [
    {
     "name": "stdout",
     "output_type": "stream",
     "text": [
      "  know_begin know_end\n",
      "0        yes      yes\n",
      "1         no       no\n",
      "2        yes       no\n",
      "3         no       no\n",
      "4         no       no\n"
     ]
    }
   ],
   "source": [
    "import pandas as pd\n",
    "\n",
    "# Load the asthma dataset from GitHub\n",
    "url = \"https://github.com/bougioukas/basic_stats_R/raw/main/data/asthma.xlsx\"\n",
    "asthma_data = pd.read_excel(url)\n",
    "\n",
    "# Display the first few rows of the dataset\n",
    "print(asthma_data.head())"
   ]
  },
  {
   "cell_type": "code",
   "execution_count": null,
   "metadata": {},
   "outputs": [],
   "source": [
    "# your solution"
   ]
  },
  {
   "cell_type": "markdown",
   "metadata": {},
   "source": [
    "# Task 8: Differences of BG readings Over Time \n",
    "\n",
    "Objective: determine if there is a significant difference in the blood glucose (BG) readings over multiple time points.\n",
    "\n",
    "Data: let's use a hypothethical example of blood glucose (BG) readings of persons with diabetes.\n",
    "\n",
    "The test is done three times, say before, within and after a given clinical treatment and we want to know if there is a significant difference within the groups (times)."
   ]
  },
  {
   "cell_type": "code",
   "execution_count": 4,
   "metadata": {},
   "outputs": [
    {
     "data": {
      "text/html": [
       "<div>\n",
       "<style scoped>\n",
       "    .dataframe tbody tr th:only-of-type {\n",
       "        vertical-align: middle;\n",
       "    }\n",
       "\n",
       "    .dataframe tbody tr th {\n",
       "        vertical-align: top;\n",
       "    }\n",
       "\n",
       "    .dataframe thead th {\n",
       "        text-align: right;\n",
       "    }\n",
       "</style>\n",
       "<table border=\"1\" class=\"dataframe\">\n",
       "  <thead>\n",
       "    <tr style=\"text-align: right;\">\n",
       "      <th></th>\n",
       "      <th>before</th>\n",
       "      <th>during</th>\n",
       "      <th>after</th>\n",
       "    </tr>\n",
       "    <tr>\n",
       "      <th>Subject</th>\n",
       "      <th></th>\n",
       "      <th></th>\n",
       "      <th></th>\n",
       "    </tr>\n",
       "  </thead>\n",
       "  <tbody>\n",
       "    <tr>\n",
       "      <th>0</th>\n",
       "      <td>89.162573</td>\n",
       "      <td>94.023517</td>\n",
       "      <td>94.594145</td>\n",
       "    </tr>\n",
       "    <tr>\n",
       "      <th>1</th>\n",
       "      <td>90.857629</td>\n",
       "      <td>95.273755</td>\n",
       "      <td>95.040646</td>\n",
       "    </tr>\n",
       "    <tr>\n",
       "      <th>2</th>\n",
       "      <td>94.912999</td>\n",
       "      <td>96.612870</td>\n",
       "      <td>95.200472</td>\n",
       "    </tr>\n",
       "    <tr>\n",
       "      <th>3</th>\n",
       "      <td>95.254064</td>\n",
       "      <td>96.818673</td>\n",
       "      <td>97.205801</td>\n",
       "    </tr>\n",
       "    <tr>\n",
       "      <th>4</th>\n",
       "      <td>97.136291</td>\n",
       "      <td>97.760342</td>\n",
       "      <td>98.428840</td>\n",
       "    </tr>\n",
       "    <tr>\n",
       "      <th>5</th>\n",
       "      <td>99.809999</td>\n",
       "      <td>99.169227</td>\n",
       "      <td>98.867769</td>\n",
       "    </tr>\n",
       "    <tr>\n",
       "      <th>6</th>\n",
       "      <td>101.094087</td>\n",
       "      <td>99.579283</td>\n",
       "      <td>99.790581</td>\n",
       "    </tr>\n",
       "    <tr>\n",
       "      <th>7</th>\n",
       "      <td>101.531428</td>\n",
       "      <td>99.661758</td>\n",
       "      <td>100.669928</td>\n",
       "    </tr>\n",
       "    <tr>\n",
       "      <th>8</th>\n",
       "      <td>101.981148</td>\n",
       "      <td>100.812359</td>\n",
       "      <td>101.751155</td>\n",
       "    </tr>\n",
       "    <tr>\n",
       "      <th>9</th>\n",
       "      <td>101.993065</td>\n",
       "      <td>102.274035</td>\n",
       "      <td>101.751638</td>\n",
       "    </tr>\n",
       "  </tbody>\n",
       "</table>\n",
       "</div>"
      ],
      "text/plain": [
       "             before      during       after\n",
       "Subject                                    \n",
       "0         89.162573   94.023517   94.594145\n",
       "1         90.857629   95.273755   95.040646\n",
       "2         94.912999   96.612870   95.200472\n",
       "3         95.254064   96.818673   97.205801\n",
       "4         97.136291   97.760342   98.428840\n",
       "5         99.809999   99.169227   98.867769\n",
       "6        101.094087   99.579283   99.790581\n",
       "7        101.531428   99.661758  100.669928\n",
       "8        101.981148  100.812359  101.751155\n",
       "9        101.993065  102.274035  101.751638"
      ]
     },
     "execution_count": 4,
     "metadata": {},
     "output_type": "execute_result"
    }
   ],
   "source": [
    "# Read dataset from url:\n",
    "import io\n",
    "import requests\n",
    "url=\"https://raw.githubusercontent.com/trangel/stats-with-python/master/data/BG-db.csv\"\n",
    "s=requests.get(url).content\n",
    "df=pd.read_csv(io.StringIO(s.decode('utf-8')),index_col=0)\n",
    "\n",
    "\n",
    "df.columns=['before','during','after']\n",
    "df.index.name='Subject'\n",
    "df.head(10)"
   ]
  },
  {
   "cell_type": "code",
   "execution_count": null,
   "metadata": {},
   "outputs": [],
   "source": [
    "# your solution"
   ]
  },
  {
   "cell_type": "markdown",
   "metadata": {},
   "source": [
    "# Task 9: Evaluate the Change in Mice Weights Before and After Treatment\n",
    "\n",
    "Objective: determine if there is a significant difference in the weights of mice before and after treatment."
   ]
  },
  {
   "cell_type": "code",
   "execution_count": 34,
   "metadata": {},
   "outputs": [
    {
     "name": "stdout",
     "output_type": "stream",
     "text": [
      "    group  weight\n",
      "0  before   200.1\n",
      "1  before   190.9\n",
      "2  before   192.7\n",
      "3  before   213.0\n",
      "4  before   241.4\n",
      "5  before   196.9\n",
      "6  before   172.2\n",
      "7  before   185.5\n",
      "8  before   205.2\n",
      "9  before   193.7\n"
     ]
    }
   ],
   "source": [
    "import pandas as pd\n",
    "\n",
    "# Weight of the mice before treatment\n",
    "before = [200.1, 190.9, 192.7, 213, 241.4, 196.9, 172.2, 185.5, 205.2, 193.7]\n",
    "\n",
    "# Weight of the mice after treatment\n",
    "after = [392.9, 393.2, 345.1, 393, 434, 427.9, 422, 383.9, 392.3, 352.2]\n",
    "\n",
    "# Create a data frame\n",
    "my_data = pd.DataFrame({\n",
    "    'group': ['before'] * len(before) + ['after'] * len(after),\n",
    "    'weight': before + after\n",
    "})\n",
    "\n",
    "# Display the first few rows of the dataset\n",
    "print(my_data.head(10))"
   ]
  },
  {
   "cell_type": "code",
   "execution_count": 37,
   "metadata": {},
   "outputs": [
    {
     "name": "stdout",
     "output_type": "stream",
     "text": [
      "ShapiroResult(statistic=0.9093793157623515, pvalue=0.2767547422813065)\n",
      "ShapiroResult(statistic=0.9112065510145709, pvalue=0.28938202337448843)\n"
     ]
    }
   ],
   "source": [
    "before_s = shapiro(before)\n",
    "after_s = shapiro(after)\n",
    "\n",
    "print(before_s)\n",
    "print(after_s)"
   ]
  },
  {
   "cell_type": "code",
   "execution_count": 40,
   "metadata": {},
   "outputs": [
    {
     "name": "stdout",
     "output_type": "stream",
     "text": [
      "T test results = TtestResult(statistic=-17.71377349633779, pvalue=7.744203479129954e-13, df=18.0)\n",
      "Reject NULL hypothesis, there is significant difference\n"
     ]
    }
   ],
   "source": [
    "t_test = ttest_ind(before, after)\n",
    "alpha = 0.05\n",
    "\n",
    "print(f\"T test results = {t_test}\")\n",
    "if t_test.pvalue < alpha:\n",
    "    print(\"Reject NULL hypothesis, there is significant difference\")\n",
    "else:\n",
    "    print(f\"Do not reject NULL hypothesis, there is no significant difference\")"
   ]
  },
  {
   "cell_type": "markdown",
   "metadata": {},
   "source": [
    "# Task 10: Calculate Effect Size and Power \n",
    "\n",
    "Objective: Use Python to calculate the effect size and power for a test comparing the total bill amounts between smokers and non-smokers. Interpret your results. If the power is not satisfactory - how many observations should we sample to achieve 90% power?\n",
    "\n",
    "The tips dataset contains information about tips received by waitstaff in a restaurant, including various attributes such as total bill, tip amount, sex of the bill payer, whether the payer is a smoker, day of the week, time of day, and size of the party.\n",
    "\n",
    "The tips dataset contains the following columns:\n",
    "\n",
    "total_bill: The total bill amount (including tip) in dollars.\n",
    "\n",
    "tip: The tip amount in dollars.\n",
    "\n",
    "sex: The sex of the bill payer (Male or Female).\n",
    "\n",
    "smoker: Whether the bill payer is a smoker (Yes or No).\n",
    "\n",
    "day: The day of the week (Thur, Fri, Sat, Sun).\n",
    "\n",
    "time: The time of day (Lunch or Dinner).\n",
    "\n",
    "size: The size of the party."
   ]
  },
  {
   "cell_type": "code",
   "execution_count": 42,
   "metadata": {},
   "outputs": [
    {
     "name": "stdout",
     "output_type": "stream",
     "text": [
      "   total_bill   tip     sex smoker  day    time  size\n",
      "0       16.99  1.01  Female     No  Sun  Dinner     2\n",
      "1       10.34  1.66    Male     No  Sun  Dinner     3\n",
      "2       21.01  3.50    Male     No  Sun  Dinner     3\n",
      "3       23.68  3.31    Male     No  Sun  Dinner     2\n",
      "4       24.59  3.61  Female     No  Sun  Dinner     4\n"
     ]
    }
   ],
   "source": [
    "import seaborn as sns\n",
    "import pandas as pd\n",
    "\n",
    "# Load the tips dataset\n",
    "tips = sns.load_dataset('tips')\n",
    "\n",
    "# Display the first few rows of the dataset\n",
    "print(tips.head())"
   ]
  },
  {
   "cell_type": "code",
   "execution_count": 52,
   "metadata": {},
   "outputs": [
    {
     "data": {
      "text/plain": [
       "ShapiroResult(statistic=0.9777954587091849, pvalue=0.11395482457978245)"
      ]
     },
     "execution_count": 52,
     "metadata": {},
     "output_type": "execute_result"
    }
   ],
   "source": [
    "shapiro(np.log(total_bill_smoker))"
   ]
  },
  {
   "cell_type": "code",
   "execution_count": 53,
   "metadata": {},
   "outputs": [
    {
     "data": {
      "text/plain": [
       "ShapiroResult(statistic=0.99155947421648, pvalue=0.5111865282355945)"
      ]
     },
     "execution_count": 53,
     "metadata": {},
     "output_type": "execute_result"
    }
   ],
   "source": [
    "shapiro(np.log(total_bill_non_smoker))"
   ]
  },
  {
   "cell_type": "code",
   "execution_count": 54,
   "metadata": {},
   "outputs": [
    {
     "name": "stdout",
     "output_type": "stream",
     "text": [
      "T test results = TtestResult(statistic=0.8485524228358794, pvalue=0.39696894352273093, df=242.0)\n",
      "Do not reject NULL hypothesis, there is no significant difference\n"
     ]
    }
   ],
   "source": [
    "total_bill_smoker = np.log(tips[tips[\"smoker\"] != \"No\"][\"total_bill\"])\n",
    "total_bill_non_smoker = np.log(tips[tips[\"smoker\"] == \"No\"][\"total_bill\"])\n",
    "\n",
    "t_test_result_smoker = ttest_ind(total_bill_smoker, total_bill_non_smoker)\n",
    "alpha = 0.05\n",
    "\n",
    "print(f\"T test results = {t_test_result_smoker}\")\n",
    "if t_test_result_smoker.pvalue < alpha:\n",
    "    print(\"Reject NULL hypothesis, there is significant difference\")\n",
    "else:\n",
    "    print(f\"Do not reject NULL hypothesis, there is no significant difference\")"
   ]
  },
  {
   "cell_type": "code",
   "execution_count": 55,
   "metadata": {},
   "outputs": [
    {
     "name": "stdout",
     "output_type": "stream",
     "text": [
      "Cohen's d: 0.3164765707641339\n",
      "The effect size (Cohen's d) is 0.32, which is considered a medium effect.\n"
     ]
    }
   ],
   "source": [
    "import pingouin as pg\n",
    "\n",
    "pg.compute_effsize(total_bill_smoker, total_bill_non_smoker, eftype='cohen')\n",
    "print(\"Cohen's d:\", cohen_d)\n",
    "\n",
    "# Interpretation of effect size\n",
    "if abs(cohen_d) < 0.2:\n",
    "    effect_size = \"small\"\n",
    "elif abs(cohen_d) < 0.5:\n",
    "    effect_size = \"medium\"\n",
    "else:\n",
    "    effect_size = \"large\"\n",
    "\n",
    "print(f\"The effect size (Cohen's d) is {cohen_d:.2f}, which is considered a {effect_size} effect.\")"
   ]
  },
  {
   "cell_type": "code",
   "execution_count": 56,
   "metadata": {},
   "outputs": [
    {
     "name": "stdout",
     "output_type": "stream",
     "text": [
      "Power of the test: 0.67\n",
      "Required sample size for 90% power: 170 per group\n"
     ]
    }
   ],
   "source": [
    "from statsmodels.stats.power import TTestIndPower\n",
    "\n",
    "# Calculate the power of the test\n",
    "analysis = TTestIndPower()\n",
    "power = analysis.solve_power(effect_size=cohen_d, \n",
    "                             nobs1=len(total_bill_smoker), \n",
    "                             alpha=alpha, \n",
    "                             ratio=len(total_bill_non_smoker)/len(total_bill_smoker), \n",
    "                             alternative='two-sided')\n",
    "\n",
    "print(f\"Power of the test: {power:.2f}\")\n",
    "required_n = analysis.solve_power(effect_size=cohen_d, \n",
    "                                  power=0.9, \n",
    "                                  alpha=alpha, \n",
    "                                  ratio=len(total_bill_non_smoker)/len(total_bill_smoker), \n",
    "                                  alternative='two-sided')\n",
    "\n",
    "print(f\"Required sample size for 90% power: {int(required_n)} per group\")"
   ]
  },
  {
   "cell_type": "markdown",
   "metadata": {},
   "source": [
    "# Task 11: 2-way Anova\n",
    "\n",
    "Objective: Three teachers graded final exams for students, and each exam varied in difficulty (Easy, Medium, Hard). We are interested in investigating whether there are differences in scores based on:\n",
    "1.\tThe teacher grading the exam.\n",
    "2.\tThe difficulty level of the exam.\n",
    "3.\tThe interaction between teacher and difficulty level.\n"
   ]
  },
  {
   "cell_type": "code",
   "execution_count": 59,
   "metadata": {},
   "outputs": [
    {
     "data": {
      "text/html": [
       "<div>\n",
       "<style scoped>\n",
       "    .dataframe tbody tr th:only-of-type {\n",
       "        vertical-align: middle;\n",
       "    }\n",
       "\n",
       "    .dataframe tbody tr th {\n",
       "        vertical-align: top;\n",
       "    }\n",
       "\n",
       "    .dataframe thead th {\n",
       "        text-align: right;\n",
       "    }\n",
       "</style>\n",
       "<table border=\"1\" class=\"dataframe\">\n",
       "  <thead>\n",
       "    <tr style=\"text-align: right;\">\n",
       "      <th></th>\n",
       "      <th>Teacher</th>\n",
       "      <th>Difficulty</th>\n",
       "      <th>Scores</th>\n",
       "    </tr>\n",
       "  </thead>\n",
       "  <tbody>\n",
       "    <tr>\n",
       "      <th>0</th>\n",
       "      <td>Teacher 1</td>\n",
       "      <td>Easy</td>\n",
       "      <td>78</td>\n",
       "    </tr>\n",
       "    <tr>\n",
       "      <th>1</th>\n",
       "      <td>Teacher 1</td>\n",
       "      <td>Easy</td>\n",
       "      <td>82</td>\n",
       "    </tr>\n",
       "    <tr>\n",
       "      <th>2</th>\n",
       "      <td>Teacher 1</td>\n",
       "      <td>Easy</td>\n",
       "      <td>85</td>\n",
       "    </tr>\n",
       "    <tr>\n",
       "      <th>3</th>\n",
       "      <td>Teacher 1</td>\n",
       "      <td>Easy</td>\n",
       "      <td>80</td>\n",
       "    </tr>\n",
       "    <tr>\n",
       "      <th>4</th>\n",
       "      <td>Teacher 1</td>\n",
       "      <td>Easy</td>\n",
       "      <td>79</td>\n",
       "    </tr>\n",
       "  </tbody>\n",
       "</table>\n",
       "</div>"
      ],
      "text/plain": [
       "     Teacher Difficulty  Scores\n",
       "0  Teacher 1       Easy      78\n",
       "1  Teacher 1       Easy      82\n",
       "2  Teacher 1       Easy      85\n",
       "3  Teacher 1       Easy      80\n",
       "4  Teacher 1       Easy      79"
      ]
     },
     "execution_count": 59,
     "metadata": {},
     "output_type": "execute_result"
    }
   ],
   "source": [
    "import pandas as pd\n",
    "\n",
    "# Dane\n",
    "data = {\n",
    "    'Teacher': ['Teacher 1'] * 15 + ['Teacher 2'] * 15 + ['Teacher 3'] * 15,\n",
    "    'Difficulty': ['Easy'] * 5 + ['Medium'] * 5 + ['Hard'] * 5 +\n",
    "                  ['Easy'] * 5 + ['Medium'] * 5 + ['Hard'] * 5 +\n",
    "                  ['Easy'] * 5 + ['Medium'] * 5 + ['Hard'] * 5,\n",
    "    'Scores': [78, 82, 85, 80, 79, 70, 75, 73, 72, 74, 60, 65, 62, 63, 61,\n",
    "               80, 85, 83, 81, 82, 72, 74, 75, 73, 71, 63, 64, 66, 62, 65,\n",
    "               81, 83, 82, 84, 85, 73, 71, 74, 72, 70, 64, 63, 62, 65, 66]\n",
    "}\n",
    "\n",
    "# Tworzenie DataFrame\n",
    "df = pd.DataFrame(data)\n",
    "\n",
    "# Wyświetlenie DataFrame\n",
    "df.head()"
   ]
  },
  {
   "cell_type": "code",
   "execution_count": 60,
   "metadata": {},
   "outputs": [
    {
     "data": {
      "text/html": [
       "<div>\n",
       "<style scoped>\n",
       "    .dataframe tbody tr th:only-of-type {\n",
       "        vertical-align: middle;\n",
       "    }\n",
       "\n",
       "    .dataframe tbody tr th {\n",
       "        vertical-align: top;\n",
       "    }\n",
       "\n",
       "    .dataframe thead th {\n",
       "        text-align: right;\n",
       "    }\n",
       "</style>\n",
       "<table border=\"1\" class=\"dataframe\">\n",
       "  <thead>\n",
       "    <tr style=\"text-align: right;\">\n",
       "      <th></th>\n",
       "      <th>sum_sq</th>\n",
       "      <th>df</th>\n",
       "      <th>F</th>\n",
       "      <th>PR(&gt;F)</th>\n",
       "    </tr>\n",
       "  </thead>\n",
       "  <tbody>\n",
       "    <tr>\n",
       "      <th>C(Teacher)</th>\n",
       "      <td>12.133333</td>\n",
       "      <td>2.0</td>\n",
       "      <td>1.744409</td>\n",
       "      <td>1.891954e-01</td>\n",
       "    </tr>\n",
       "    <tr>\n",
       "      <th>C(Difficulty)</th>\n",
       "      <td>2594.800000</td>\n",
       "      <td>2.0</td>\n",
       "      <td>373.054313</td>\n",
       "      <td>8.602757e-25</td>\n",
       "    </tr>\n",
       "    <tr>\n",
       "      <th>C(Teacher):C(Difficulty)</th>\n",
       "      <td>13.866667</td>\n",
       "      <td>4.0</td>\n",
       "      <td>0.996805</td>\n",
       "      <td>4.219076e-01</td>\n",
       "    </tr>\n",
       "    <tr>\n",
       "      <th>Residual</th>\n",
       "      <td>125.200000</td>\n",
       "      <td>36.0</td>\n",
       "      <td>NaN</td>\n",
       "      <td>NaN</td>\n",
       "    </tr>\n",
       "  </tbody>\n",
       "</table>\n",
       "</div>"
      ],
      "text/plain": [
       "                               sum_sq    df           F        PR(>F)\n",
       "C(Teacher)                  12.133333   2.0    1.744409  1.891954e-01\n",
       "C(Difficulty)             2594.800000   2.0  373.054313  8.602757e-25\n",
       "C(Teacher):C(Difficulty)    13.866667   4.0    0.996805  4.219076e-01\n",
       "Residual                   125.200000  36.0         NaN           NaN"
      ]
     },
     "execution_count": 60,
     "metadata": {},
     "output_type": "execute_result"
    }
   ],
   "source": [
    "import statsmodels.api as sm\n",
    "from statsmodels.formula.api import ols\n",
    "\n",
    "#perform two-way ANOVA\n",
    "model = ols('Scores ~ C(Teacher) + C(Difficulty) + C(Teacher):C(Difficulty)', data=df).fit()\n",
    "two_way_anova_table = sm.stats.anova_lm(model, typ=2)\n",
    "\n",
    "two_way_anova_table"
   ]
  },
  {
   "cell_type": "code",
   "execution_count": 70,
   "metadata": {},
   "outputs": [
    {
     "name": "stdout",
     "output_type": "stream",
     "text": [
      "C(Teacher) have NOT significant difference on Scores, p_value = 0.1891954187830955\n",
      "C(Difficulty) have significant difference on Scores, p_value = 8.602756830859398e-25\n",
      "C(Teacher):C(Difficulty) have NOT significant difference on Scores, p_value = 0.42190761087905604\n",
      "Residual have NOT significant difference on Scores, p_value = nan\n"
     ]
    }
   ],
   "source": [
    "p_values = two_way_anova_table[\"PR(>F)\"]\n",
    "for i, p in enumerate(p_values.values):\n",
    "    if p < 0.05:\n",
    "        print(f\"{p_values.index[i]} have significant difference on Scores, p_value = {p}\")\n",
    "    else:\n",
    "        print(f\"{p_values.index[i]} have NOT significant difference on Scores, p_value = {p}\")"
   ]
  },
  {
   "cell_type": "markdown",
   "metadata": {},
   "source": [
    "# Task 12: Mantel-Haenszel test\n",
    "\n",
    "Objective: use the Mantel-Haenszel test to determine if there is a significant difference in the changes in doctoral program completion status between male and female students, controlling for the time variable (initial and final status).\n",
    "\n",
    "Gdańsk Tech classified students entering the PhD programs in a given year by their status 6 years later, with the data broken down by gender. The initial and final status of students is as follows: Men: 15 completed, 5 not completed, Women: 10 completed, 10 not completed. Final Status: Men: 12 completed, 8 not completed, Women: 8 completed, 12 not completed. Determine if there is a significant difference in the changes of doctoral program completion status between male and female students.\n"
   ]
  },
  {
   "cell_type": "code",
   "execution_count": 4,
   "metadata": {},
   "outputs": [
    {
     "name": "stdout",
     "output_type": "stream",
     "text": [
      "Change Table for Mantel-Haenszel Test:\n",
      "       Completed  Not completed\n",
      "Men          3.0           -3.0\n",
      "Women        2.0           -2.0\n"
     ]
    }
   ],
   "source": [
    "import numpy as np\n",
    "import pandas as pd\n",
    "from statsmodels.stats.contingency_tables import mcnemar\n",
    "\n",
    "initial = pd.DataFrame([[15, 5],  # Men: Completed, Not completed\n",
    "                        [10, 10]],  # Women: Completed, Not completed\n",
    "                       columns=[\"Completed\", \"Not completed\"],\n",
    "                       index=[\"Men\", \"Women\"])\n",
    "\n",
    "final = pd.DataFrame([[12, 8],  # Men: Completed, Not completed\n",
    "                      [8, 12]],  # Women: Completed, Not completed\n",
    "                     columns=[\"Completed\", \"Not completed\"],\n",
    "                     index=[\"Men\", \"Women\"])\n",
    "change_table = pd.DataFrame(np.zeros((2, 2)), columns=[\"Completed\", \"Not completed\"], index=[\"Men\", \"Women\"])\n",
    "\n",
    "# Fill the change table with differences (completed and not completed)\n",
    "change_table.loc[\"Men\", \"Completed\"] = initial.loc[\"Men\", \"Completed\"] - final.loc[\"Men\", \"Completed\"]\n",
    "change_table.loc[\"Men\", \"Not completed\"] = initial.loc[\"Men\", \"Not completed\"] - final.loc[\"Men\", \"Not completed\"]\n",
    "change_table.loc[\"Women\", \"Completed\"] = initial.loc[\"Women\", \"Completed\"] - final.loc[\"Women\", \"Completed\"]\n",
    "change_table.loc[\"Women\", \"Not completed\"] = initial.loc[\"Women\", \"Not completed\"] - final.loc[\"Women\", \"Not completed\"]\n",
    "\n",
    "print(\"Change Table for Mantel-Haenszel Test:\")\n",
    "print(change_table)"
   ]
  },
  {
   "cell_type": "code",
   "execution_count": 5,
   "metadata": {},
   "outputs": [
    {
     "name": "stdout",
     "output_type": "stream",
     "text": [
      "p-value of the Mantel-Haenszel test: 0.30175781249999994\n"
     ]
    }
   ],
   "source": [
    "from statsmodels.stats.contingency_tables import mcnemar\n",
    "\n",
    "table = np.array([[initial.loc['Men', 'Completed'], initial.loc['Men', 'Not completed']],\n",
    "                  [initial.loc['Women', 'Completed'], initial.loc['Women', 'Not completed']]])\n",
    "result = mcnemar(table)\n",
    "print(f\"p-value of the Mantel-Haenszel test: {result.pvalue}\")\n"
   ]
  },
  {
   "cell_type": "code",
   "execution_count": null,
   "metadata": {},
   "outputs": [],
   "source": []
  }
 ],
 "metadata": {
  "kernelspec": {
   "display_name": "Python 3",
   "language": "python",
   "name": "python3"
  },
  "language_info": {
   "codemirror_mode": {
    "name": "ipython",
    "version": 3
   },
   "file_extension": ".py",
   "mimetype": "text/x-python",
   "name": "python",
   "nbconvert_exporter": "python",
   "pygments_lexer": "ipython3",
   "version": "3.9.2"
  }
 },
 "nbformat": 4,
 "nbformat_minor": 2
}
