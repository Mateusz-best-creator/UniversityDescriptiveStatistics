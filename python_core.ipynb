{
 "cells": [
  {
   "cell_type": "markdown",
   "metadata": {},
   "source": [
    "# Python Core"
   ]
  },
  {
   "cell_type": "markdown",
   "metadata": {},
   "source": [
    "## Meet Python\n",
    "\n",
    "**Python Creator:** `Guido van Rossum`\n",
    "\n",
    "Low-level languages send direct calls to the OS and are represented in 0 or 1 forms. They have little to no abstraction. Low-level programs work fast and consume very little memory.\n",
    "\n",
    "**Examples of low-level languages:**\n",
    "- Machine code\n",
    "- Assembler\n",
    "\n",
    "High-level languages send indirect calls to the OS using abstraction level. Such programs don't depend on hardware and require a compiler or interpreter to translate them to the OS.\n",
    "\n",
    "**Examples of high-level languages:**\n",
    "- Python\n",
    "- Java\n",
    "- Ruby\n",
    "- JavaScript\n",
    "\n",
    "*Declarative paradigm*\n",
    "\n",
    "Declarative languages describe the intended result of a program without specifying how to achieve it. You can use a language's features, extensions, or libraries to do this.\n",
    "\n",
    "Examples of declarative languages:\n",
    "- HTML—You don't need to know how a browser renders HTML. You describe the structure of the webpage.\n",
    "- SQL—You don't need to know how queries work. You just describe the result.\n",
    "\n",
    "*Imperative paradigm*\n",
    "\n",
    "The main goal of imperative programming is to describe the process of achieving a result. An imperative language describes how to execute a program command by command.\n",
    "\n",
    "Examples of imperative languages:\n",
    "- Python\n",
    "- Java\n",
    "- Ruby\n",
    "- JavaScript\n",
    "\n",
    "<img src=\"python_interpret.png\"/>"
   ]
  },
  {
   "cell_type": "markdown",
   "metadata": {},
   "source": [
    " In static languages, checks occur before runtime, which helps detect bugs quickly. Strong typing doesn't implicit data type based on the situation. So you have to declare each variable type."
   ]
  },
  {
   "cell_type": "markdown",
   "metadata": {},
   "source": [
    "**Python Virtual Machine (PVM)** -> is software for converting bytecode into machine code so that the computer can execute the machine code instructions and display the final output.\n",
    "\n",
    "Advantages of python:\n",
    "- Extendable\n",
    "- Dynamically typed\n",
    "- Speeds up development\n",
    "\n",
    "`help(\"keywords\")` -> allows us to check the names of keywords in python"
   ]
  },
  {
   "cell_type": "code",
   "execution_count": 1,
   "metadata": {},
   "outputs": [
    {
     "name": "stdout",
     "output_type": "stream",
     "text": [
      "\n",
      "Here is a list of the Python keywords.  Enter any keyword to get more help.\n",
      "\n",
      "False               break               for                 not\n",
      "None                class               from                or\n",
      "True                continue            global              pass\n",
      "__peg_parser__      def                 if                  raise\n",
      "and                 del                 import              return\n",
      "as                  elif                in                  try\n",
      "assert              else                is                  while\n",
      "async               except              lambda              with\n",
      "await               finally             nonlocal            yield\n",
      "\n"
     ]
    }
   ],
   "source": [
    "help(\"keywords\")"
   ]
  },
  {
   "cell_type": "markdown",
   "metadata": {},
   "source": [
    "`Python Zen` – a set of principles forming the idea of Python as a programming language"
   ]
  },
  {
   "cell_type": "markdown",
   "metadata": {},
   "source": [
    "## Data Types"
   ]
  },
  {
   "cell_type": "markdown",
   "metadata": {},
   "source": [
    "In python *everything, including class or function is an object*!"
   ]
  },
  {
   "cell_type": "code",
   "execution_count": 6,
   "metadata": {},
   "outputs": [
    {
     "name": "stdout",
     "output_type": "stream",
     "text": [
      "<class 'int'>\n",
      "<class 'function'>\n",
      "<class 'type'>\n"
     ]
    }
   ],
   "source": [
    "a = 10\n",
    "print(type(a))\n",
    "def b():\n",
    "    pass\n",
    "print(type(b))\n",
    "class Beta:\n",
    "    pass\n",
    "print(type(Beta))"
   ]
  },
  {
   "cell_type": "markdown",
   "metadata": {},
   "source": [
    "### Mutable Objects\n",
    "In Python, some objects can change after their creation. They are called mutable objects. For example, objects whose type is a: \n",
    "\n",
    "- sets\n",
    "- list\n",
    "- dictionary\n",
    "\n",
    "are mutable.\n",
    "\n",
    "## Immutable objects\n",
    "Conversely immutable objects can't change after creation. Examples of immutable types: \n",
    "\n",
    "- integer\n",
    "- float\n",
    "- string\n",
    "- tuple\n",
    "\n",
    "**In Python, every object has a unique identifier, and you can use another built-in function `id()` to get it**"
   ]
  },
  {
   "cell_type": "code",
   "execution_count": 11,
   "metadata": {},
   "outputs": [
    {
     "name": "stdout",
     "output_type": "stream",
     "text": [
      "2218974145104\n",
      "2218974145136\n",
      "2219077227840\n",
      "2219077227840\n",
      "2219053553920\n",
      "2219053553920\n",
      "{40, 10, 20, 30}\n"
     ]
    }
   ],
   "source": [
    "a = 10\n",
    "print(id(a))\n",
    "a += 1\n",
    "print(id(a))\n",
    "\n",
    "my_list = [1,2,3]\n",
    "print(id(my_list))\n",
    "my_list.append(10)\n",
    "print(id(my_list))\n",
    "\n",
    "c = set([10, 20, 30])\n",
    "print(id(c))\n",
    "c.add(40)\n",
    "print(id(c))\n",
    "print(c)"
   ]
  },
  {
   "cell_type": "markdown",
   "metadata": {},
   "source": [
    "There are three different types of numbers in Python: **integer, float, and complex**. All are immutable."
   ]
  },
  {
   "cell_type": "code",
   "execution_count": 12,
   "metadata": {},
   "outputs": [
    {
     "name": "stdout",
     "output_type": "stream",
     "text": [
      "<class 'complex'> (1+2j)\n"
     ]
    }
   ],
   "source": [
    "x = \"1+2j\"\n",
    "y = complex(x)\n",
    "print(type(y), y)"
   ]
  },
  {
   "cell_type": "markdown",
   "metadata": {},
   "source": [
    "### Match-Case construction\n",
    "From  Python 3.10 "
   ]
  },
  {
   "cell_type": "code",
   "execution_count": 14,
   "metadata": {},
   "outputs": [],
   "source": [
    "my_operation = \"read\" \n",
    "# Mine version is 3.9.2 :(\n",
    "# match my_operation: \n",
    "#     case \"read\": \n",
    "#         print(\"perform read operation…\") \n",
    "#     case \"update\": \n",
    "#         print(\"perform update operation …\") \n",
    "#     case \"insert\": \n",
    "#         print(\"perform insert operation …\") \n",
    "#     case \"delete\": \n",
    "#         print(\"perform delete operation …\") \n",
    "#     case _: \n",
    "#         print(\"wrong variant if operation !!!\")"
   ]
  },
  {
   "cell_type": "markdown",
   "metadata": {},
   "source": [
    "### Ternary Operator\n",
    "\n",
    "Ternary operator or conditional expression can be used to simplify a representation of if/else expression. Often it allows making our code compact and clear. Ternary operator has the following format `x if C else y`"
   ]
  },
  {
   "cell_type": "code",
   "execution_count": 15,
   "metadata": {},
   "outputs": [
    {
     "name": "stdout",
     "output_type": "stream",
     "text": [
      "X >= than 5\n"
     ]
    }
   ],
   "source": [
    "x = 10\n",
    "print(\"X smaller than 5\") if x < 5 else print(\"X >= than 5\")"
   ]
  },
  {
   "cell_type": "code",
   "execution_count": 16,
   "metadata": {},
   "outputs": [
    {
     "name": "stdout",
     "output_type": "stream",
     "text": [
      "SAD\n",
      "<class 'NoneType'>\n"
     ]
    }
   ],
   "source": [
    "x = None\n",
    "if x is None:\n",
    "    print(\"SAD\")\n",
    "else:\n",
    "    print(\"HAPPY!\")\n",
    "print(type(x))"
   ]
  },
  {
   "cell_type": "markdown",
   "metadata": {},
   "source": [
    "### `else` inside while loops\n",
    "\n",
    "With the while loop, you can use the else operator to run some code once when the condition is no longer True."
   ]
  },
  {
   "cell_type": "code",
   "execution_count": 17,
   "metadata": {},
   "outputs": [
    {
     "name": "stdout",
     "output_type": "stream",
     "text": [
      "a = 5 currently\n",
      "a = 4 currently\n",
      "a = 3 currently\n",
      "a is smaller than 2! a = 2\n"
     ]
    }
   ],
   "source": [
    "a = 5\n",
    "while a > 2:\n",
    "    print(f\"a = {a} currently\")\n",
    "    a -= 1\n",
    "else:\n",
    "    print(f\"a is smaller than 2! a = {a}\")"
   ]
  },
  {
   "cell_type": "markdown",
   "metadata": {},
   "source": [
    "### Iterators\n",
    "\n",
    "Iterator—an object representing a stream of data. Repeated calls to the iterator's __next__() method (or passing it to the built-in function next() return successive items in the stream. When no more data are available, a StopIteration exception is raised instead.\""
   ]
  },
  {
   "cell_type": "code",
   "execution_count": 26,
   "metadata": {},
   "outputs": [
    {
     "name": "stdout",
     "output_type": "stream",
     "text": [
      "1\n",
      "2\n"
     ]
    },
    {
     "ename": "StopIteration",
     "evalue": "",
     "output_type": "error",
     "traceback": [
      "\u001b[1;31m---------------------------------------------------------------------------\u001b[0m",
      "\u001b[1;31mStopIteration\u001b[0m                             Traceback (most recent call last)",
      "Cell \u001b[1;32mIn[26], line 4\u001b[0m\n\u001b[0;32m      2\u001b[0m \u001b[39mprint\u001b[39m(\u001b[39mnext\u001b[39m(x))\n\u001b[0;32m      3\u001b[0m \u001b[39mprint\u001b[39m(\u001b[39mnext\u001b[39m(x))\n\u001b[1;32m----> 4\u001b[0m \u001b[39mprint\u001b[39m(\u001b[39mnext\u001b[39;49m(x)) \u001b[39m# Stop iteration exception\u001b[39;00m\n",
      "\u001b[1;31mStopIteration\u001b[0m: "
     ]
    }
   ],
   "source": [
    "x = iter(range(1, 3))\n",
    "print(next(x))\n",
    "print(next(x))\n",
    "print(next(x)) # Stop iteration exception"
   ]
  },
  {
   "cell_type": "markdown",
   "metadata": {},
   "source": [
    "### Strings are immutable!"
   ]
  },
  {
   "cell_type": "code",
   "execution_count": 27,
   "metadata": {},
   "outputs": [
    {
     "ename": "TypeError",
     "evalue": "'str' object does not support item assignment",
     "output_type": "error",
     "traceback": [
      "\u001b[1;31m---------------------------------------------------------------------------\u001b[0m",
      "\u001b[1;31mTypeError\u001b[0m                                 Traceback (most recent call last)",
      "Cell \u001b[1;32mIn[27], line 2\u001b[0m\n\u001b[0;32m      1\u001b[0m x \u001b[39m=\u001b[39m \u001b[39m\"\u001b[39m\u001b[39mwitam\u001b[39m\u001b[39m\"\u001b[39m\n\u001b[1;32m----> 2\u001b[0m x[\u001b[39m0\u001b[39;49m] \u001b[39m=\u001b[39m \u001b[39m'\u001b[39m\u001b[39mr\u001b[39m\u001b[39m'\u001b[39m\n",
      "\u001b[1;31mTypeError\u001b[0m: 'str' object does not support item assignment"
     ]
    }
   ],
   "source": [
    "x = \"witam\"\n",
    "x[0] = 'r'"
   ]
  },
  {
   "cell_type": "code",
   "execution_count": 28,
   "metadata": {},
   "outputs": [
    {
     "name": "stdout",
     "output_type": "stream",
     "text": [
      "el\n"
     ]
    }
   ],
   "source": [
    "# Using slice function:\n",
    "my_str = \"Hello\"\n",
    "slice_object = slice(1,3)\n",
    "print(my_str[slice_object])"
   ]
  },
  {
   "cell_type": "code",
   "execution_count": 29,
   "metadata": {},
   "outputs": [
    {
     "name": "stdout",
     "output_type": "stream",
     "text": [
      "el\n"
     ]
    }
   ],
   "source": [
    "# Or\n",
    "print(my_str[1:3])"
   ]
  },
  {
   "cell_type": "code",
   "execution_count": 31,
   "metadata": {},
   "outputs": [
    {
     "name": "stdout",
     "output_type": "stream",
     "text": [
      "Witam 10, 20\n"
     ]
    }
   ],
   "source": [
    "# Using format function\n",
    "print(\"Witam {}, {}\".format(10, 20))"
   ]
  },
  {
   "cell_type": "markdown",
   "metadata": {},
   "source": [
    "### List `extend`"
   ]
  },
  {
   "cell_type": "code",
   "execution_count": 34,
   "metadata": {},
   "outputs": [
    {
     "name": "stdout",
     "output_type": "stream",
     "text": [
      "[1, 2, 3, 'a', 'b', 'c']\n",
      "[2, 3, 'a', 'b']\n"
     ]
    }
   ],
   "source": [
    "some_list = [1, 2, 3]\n",
    "some_str = \"abc\"\n",
    "some_list.extend(some_str)\n",
    "print(some_list)\n",
    "\n",
    "some_list.pop()\n",
    "some_list.pop(0)\n",
    "print(some_list)"
   ]
  },
  {
   "cell_type": "markdown",
   "metadata": {},
   "source": [
    "### List Comprehensions"
   ]
  },
  {
   "cell_type": "code",
   "execution_count": 37,
   "metadata": {},
   "outputs": [
    {
     "data": {
      "text/plain": [
       "[2, 4, 6, 8]"
      ]
     },
     "execution_count": 37,
     "metadata": {},
     "output_type": "execute_result"
    }
   ],
   "source": [
    "my_list_even = [i for i in range(1, 10) if not i % 2]\n",
    "my_list_even"
   ]
  },
  {
   "cell_type": "markdown",
   "metadata": {},
   "source": [
    "### Tuples\n",
    "\n",
    "Tuples in python are **immutable objects**!!!"
   ]
  },
  {
   "cell_type": "code",
   "execution_count": 39,
   "metadata": {},
   "outputs": [
    {
     "name": "stdout",
     "output_type": "stream",
     "text": [
      "<class 'tuple'>\n"
     ]
    },
    {
     "ename": "TypeError",
     "evalue": "'tuple' object does not support item assignment",
     "output_type": "error",
     "traceback": [
      "\u001b[1;31m---------------------------------------------------------------------------\u001b[0m",
      "\u001b[1;31mTypeError\u001b[0m                                 Traceback (most recent call last)",
      "Cell \u001b[1;32mIn[39], line 3\u001b[0m\n\u001b[0;32m      1\u001b[0m my_tuple \u001b[39m=\u001b[39m (\u001b[39m1\u001b[39m,\u001b[39m2\u001b[39m,\u001b[39m3\u001b[39m)\n\u001b[0;32m      2\u001b[0m \u001b[39mprint\u001b[39m(\u001b[39mtype\u001b[39m(my_tuple))\n\u001b[1;32m----> 3\u001b[0m my_tuple[\u001b[39m0\u001b[39;49m] \u001b[39m=\u001b[39m \u001b[39m4\u001b[39m\n",
      "\u001b[1;31mTypeError\u001b[0m: 'tuple' object does not support item assignment"
     ]
    }
   ],
   "source": [
    "my_tuple = (1,2,3)\n",
    "print(type(my_tuple))\n",
    "my_tuple[0] = 4"
   ]
  },
  {
   "cell_type": "code",
   "execution_count": 42,
   "metadata": {},
   "outputs": [
    {
     "name": "stdout",
     "output_type": "stream",
     "text": [
      "<class 'tuple'>\n",
      "Red Green Blue\n",
      "<class 'int'> <class 'tuple'>\n"
     ]
    }
   ],
   "source": [
    "colors = \"Red\", \"Green\", \"Blue\"\n",
    "print(type(colors))\n",
    "a, b, c = colors\n",
    "print(a, b, c)\n",
    "\n",
    "a = (1) # integer\n",
    "b = (1,) # tuple\n",
    "print(type(a), type(b))"
   ]
  },
  {
   "cell_type": "markdown",
   "metadata": {},
   "source": [
    "### Tuple `is` operator"
   ]
  },
  {
   "cell_type": "code",
   "execution_count": 56,
   "metadata": {},
   "outputs": [
    {
     "name": "stdout",
     "output_type": "stream",
     "text": [
      "True\n",
      "False\n",
      "False\n"
     ]
    }
   ],
   "source": [
    "x = (1, 2, 3)\n",
    "y = (1, 2, 3)\n",
    "print(x == y)\n",
    "\n",
    "# There could be only one object in memory!!!\n",
    "print(id(x) == id(y))\n",
    "print(x is y)"
   ]
  },
  {
   "cell_type": "markdown",
   "metadata": {},
   "source": [
    "### Set dataype\n",
    "Sets are mutable and dynamic like lists.\n",
    "\n",
    "Sets may contain only hashable types.\n",
    "\n",
    "All immutable types in Python are hashable. However, some custom types can be mutable and hashable at one time. It depends on the implementation of their classes."
   ]
  },
  {
   "cell_type": "code",
   "execution_count": 47,
   "metadata": {},
   "outputs": [
    {
     "name": "stdout",
     "output_type": "stream",
     "text": [
      "1\n",
      "2\n",
      "3\n",
      "4\n",
      "5\n"
     ]
    },
    {
     "ename": "TypeError",
     "evalue": "'set' object is not subscriptable",
     "output_type": "error",
     "traceback": [
      "\u001b[1;31m---------------------------------------------------------------------------\u001b[0m",
      "\u001b[1;31mTypeError\u001b[0m                                 Traceback (most recent call last)",
      "Cell \u001b[1;32mIn[47], line 8\u001b[0m\n\u001b[0;32m      5\u001b[0m     \u001b[39mprint\u001b[39m(i)\n\u001b[0;32m      7\u001b[0m \u001b[39m# There is no access to the elements\u001b[39;00m\n\u001b[1;32m----> 8\u001b[0m my_set[\u001b[39m0\u001b[39;49m]\n",
      "\u001b[1;31mTypeError\u001b[0m: 'set' object is not subscriptable"
     ]
    }
   ],
   "source": [
    "my_set = set([1,2,3,4,5])\n",
    "\n",
    "# Sets are iterable\n",
    "for i in my_set:\n",
    "    print(i)\n",
    "\n",
    "# There is no access to the elements\n",
    "my_set[0]"
   ]
  },
  {
   "cell_type": "code",
   "execution_count": 50,
   "metadata": {},
   "outputs": [
    {
     "name": "stdout",
     "output_type": "stream",
     "text": [
      "{'a', 'n', 'd', 'b', 'h', 'c'}\n",
      "{'d'}\n",
      "{'a', 'h'}\n"
     ]
    }
   ],
   "source": [
    "# Set union\n",
    "s1 = {\"a\", \"d\", \"h\"}\n",
    "s2 = {\"n\", \"b\", \"c\", \"d\"}\n",
    "s3 = {\"c\", \"d\"}\n",
    "union = s1 | s2 | s3\n",
    "print(union)\n",
    "\n",
    "# Intersection\n",
    "intersection = s1 & s2 & s3\n",
    "print(intersection)\n",
    "\n",
    "# Difference\n",
    "difference = s1 - s2 - s3\n",
    "print(difference)"
   ]
  },
  {
   "cell_type": "code",
   "execution_count": 51,
   "metadata": {},
   "outputs": [
    {
     "name": "stdout",
     "output_type": "stream",
     "text": [
      "{'a', 'n', 'd', 'b', 'h', 'k'}\n"
     ]
    }
   ],
   "source": [
    "# The update method changes the value of the original set to the union with the specified sets:\n",
    "\n",
    "s1 = {\"a\", \"b\", \"k\"}\n",
    "s2 = {\"a\", \"d\", \"h\"}\n",
    "s3 = {\"n\", \"b\", \"d\"}\n",
    "\n",
    "s1.update(s2, s3)\n",
    "print(s1)\n",
    "# The intersection_update and the difference_update methods work similarly, but with intersection and difference, respectively."
   ]
  },
  {
   "cell_type": "markdown",
   "metadata": {},
   "source": [
    "### Dictionaries\n",
    "\n",
    "Dictionary keys can be objects of any hashable data type. Immutable types in python are hashable.\n",
    "\n",
    "There is no limitation for dictionary values at all. They can contain any Python data type."
   ]
  },
  {
   "cell_type": "code",
   "execution_count": 53,
   "metadata": {},
   "outputs": [],
   "source": [
    "a = {1: [1,2,3],\n",
    "     2: [3,4,5]}\n",
    "a.get(3)"
   ]
  },
  {
   "cell_type": "code",
   "execution_count": 54,
   "metadata": {},
   "outputs": [
    {
     "ename": "KeyError",
     "evalue": "3",
     "output_type": "error",
     "traceback": [
      "\u001b[1;31m---------------------------------------------------------------------------\u001b[0m",
      "\u001b[1;31mKeyError\u001b[0m                                  Traceback (most recent call last)",
      "Cell \u001b[1;32mIn[54], line 1\u001b[0m\n\u001b[1;32m----> 1\u001b[0m a[\u001b[39m3\u001b[39;49m]\n",
      "\u001b[1;31mKeyError\u001b[0m: 3"
     ]
    }
   ],
   "source": [
    "a[3]"
   ]
  },
  {
   "cell_type": "code",
   "execution_count": 55,
   "metadata": {},
   "outputs": [
    {
     "name": "stdout",
     "output_type": "stream",
     "text": [
      "<class 'dict'>\n"
     ]
    }
   ],
   "source": [
    "print(type(a))"
   ]
  },
  {
   "cell_type": "markdown",
   "metadata": {},
   "source": [
    "## Functions"
   ]
  },
  {
   "cell_type": "code",
   "execution_count": null,
   "metadata": {},
   "outputs": [],
   "source": []
  },
  {
   "cell_type": "code",
   "execution_count": null,
   "metadata": {},
   "outputs": [],
   "source": []
  },
  {
   "cell_type": "code",
   "execution_count": null,
   "metadata": {},
   "outputs": [],
   "source": []
  },
  {
   "cell_type": "code",
   "execution_count": null,
   "metadata": {},
   "outputs": [],
   "source": [
    "x = 3\n",
    "def foo():\n",
    "    def bar(x=3):\n",
    "        print(x)\n",
    "    bar()\n",
    "x=5\n",
    "foo()"
   ]
  },
  {
   "cell_type": "code",
   "execution_count": null,
   "metadata": {},
   "outputs": [],
   "source": []
  },
  {
   "cell_type": "code",
   "execution_count": null,
   "metadata": {},
   "outputs": [],
   "source": []
  },
  {
   "cell_type": "code",
   "execution_count": null,
   "metadata": {},
   "outputs": [],
   "source": []
  },
  {
   "cell_type": "code",
   "execution_count": null,
   "metadata": {},
   "outputs": [],
   "source": []
  },
  {
   "cell_type": "code",
   "execution_count": null,
   "metadata": {},
   "outputs": [],
   "source": []
  },
  {
   "cell_type": "code",
   "execution_count": null,
   "metadata": {},
   "outputs": [],
   "source": []
  },
  {
   "cell_type": "code",
   "execution_count": null,
   "metadata": {},
   "outputs": [],
   "source": []
  }
 ],
 "metadata": {
  "kernelspec": {
   "display_name": "Python 3",
   "language": "python",
   "name": "python3"
  },
  "language_info": {
   "codemirror_mode": {
    "name": "ipython",
    "version": 3
   },
   "file_extension": ".py",
   "mimetype": "text/x-python",
   "name": "python",
   "nbconvert_exporter": "python",
   "pygments_lexer": "ipython3",
   "version": "3.9.2"
  },
  "orig_nbformat": 4
 },
 "nbformat": 4,
 "nbformat_minor": 2
}
